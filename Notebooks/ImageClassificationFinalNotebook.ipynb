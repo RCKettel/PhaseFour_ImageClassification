{
 "cells": [
  {
   "cell_type": "markdown",
   "metadata": {},
   "source": [
    "## Business Understanding"
   ]
  },
  {
   "cell_type": "markdown",
   "metadata": {},
   "source": [
    "For this project a Convolutional Neural Network deep learning model was created for a proof of concept that would predict if a patient had lungs infected with pneumonia. The best model showed a high level of accuracy which would show the least number of results that are that would predict the patient does not have pneumonia when they actually do. Or in other words, are false negatives."
   ]
  },
  {
   "cell_type": "markdown",
   "metadata": {},
   "source": [
    "## Accessing the Data"
   ]
  },
  {
   "cell_type": "markdown",
   "metadata": {},
   "source": [
    "Due to the number of images and the size of the dataset its recommended that it is downloaded to a folder and keras Image Data Generator and flow_from_directory methods are used to access it. The data can be downloaded from Keras [here](https://www.kaggle.com/paultimothymooney/chest-xray-pneumonia).  The data will be downloaded as a .zip file and will require a program to access it.  Once opened exploration will reveal a number of redundant or empty files that contain much of the same data or no data at all such as MACOSX.  These files were deleted since they were considered unnessecessary.  The approach used for this project was to take the train, val, and test files from their parent folder and access them directly to expedite access and reduce the amount of code.  "
   ]
  },
  {
   "cell_type": "markdown",
   "metadata": {},
   "source": [
    "## Data Description"
   ]
  },
  {
   "cell_type": "markdown",
   "metadata": {},
   "source": [
    " The data is pediatric X-ray images of lungs from 5863 patients. These images were split into three different sets: Train, Val, Test each containing subsets: Normal, and Pneumonia. This data took very little preperation since it was already split into training and validation sets.  The Val classes were small in comparison to the training data; as a result it was necessary to triple the number of samples by moving some of the images from the Train data folders to the Val folder.  This was done physically using the file explorer or finder on the local machine.  Due to a nearly three to one imbalance of images in the training data to images the target data SMOTE was used to better balance the data.  "
   ]
  },
  {
   "cell_type": "code",
   "execution_count": 1,
   "metadata": {},
   "outputs": [],
   "source": [
    "# Importing libraries\n",
    "import pandas as pd\n",
    "import numpy as np\n",
    "import keras as k\n",
    "import tensorflow as tf\n",
    "import matplotlib.pyplot as plt\n",
    "import seaborn as sns\n",
    "import warnings\n",
    "warnings.filterwarnings('ignore', category=DeprecationWarning)\n",
    "warnings.filterwarnings('ignore', category=FutureWarning)\n",
    "\n",
    "# Importing methods\n",
    "from tensorflow.keras.preprocessing.image import ImageDataGenerator\n",
    "from keras.models import Sequential\n",
    "from keras.layers import Dense, Conv2D, MaxPooling2D, Dropout\n",
    "from keras.callbacks import EarlyStopping\n",
    "from keras import regularizers\n",
    "from focal_loss import BinaryFocalLoss\n",
    "from imblearn.over_sampling import SMOTE\n",
    "from sklearn.metrics import f1_score, make_scorer, confusion_matrix"
   ]
  },
  {
   "cell_type": "markdown",
   "metadata": {},
   "source": [
    "### Instantiating ImageDataGenerator and flow_from_directory"
   ]
  },
  {
   "cell_type": "markdown",
   "metadata": {},
   "source": [
    "When instantiating the flow from directory method the color mode was changed to grayscale to expedite the processing of the data and class mode was set to binary since the model will be built to predict on discrete data. A loop is in clused after the Training Generator that is designed to create a weights that will help offset the low bias of the models and prevent overfitting."
   ]
  },
  {
   "cell_type": "code",
   "execution_count": 2,
   "metadata": {},
   "outputs": [
    {
     "name": "stdout",
     "output_type": "stream",
     "text": [
      "Found 5184 images belonging to 2 classes.\n",
      "Found 48 images belonging to 2 classes.\n",
      "Found 624 images belonging to 2 classes.\n"
     ]
    }
   ],
   "source": [
    "# Make Training Generator\n",
    "\n",
    "train_gen = ImageDataGenerator(rescale=1./256)\n",
    "generate_train = train_gen.flow_from_directory(directory=r'../data/train', seed=42,\n",
    "                                    color_mode='grayscale',\n",
    "                                    target_size=(64, 64), \n",
    "                                    batch_size=50, \n",
    "                                    class_mode='binary',\n",
    "                                    interpolation='nearest')\n",
    "\n",
    "# This loop generates weights based on the classes in the\n",
    "# training data\n",
    "from collections import Counter\n",
    "counter = Counter(generate_train.classes)                          \n",
    "max_val = float(max(counter.values()))       \n",
    "train_weights = {class_id : max_val/num_images for class_id, num_images in counter.items()}  \n",
    "\n",
    "# Make Val Generator\n",
    "\n",
    "val_gen = ImageDataGenerator(rescale=1./256)\n",
    "generate_val = val_gen.flow_from_directory(directory=r'../data/val', seed=42,\n",
    "                                   color_mode='grayscale',\n",
    "                                   target_size=(64,64),\n",
    "                                   batch_size=48, \n",
    "                                   class_mode='binary',\n",
    "                                   interpolation='nearest')\n",
    "\n",
    "\n",
    "# Maket Test Generator\n",
    "\n",
    "test_gen = ImageDataGenerator(rescale=1./256)\n",
    "generate_test = test_gen.flow_from_directory(directory=r'../data/test', seed=42,\n",
    "                                   color_mode='grayscale',\n",
    "                                   target_size=(64,64),\n",
    "                                   batch_size=50, \n",
    "                                   class_mode='binary',\n",
    "                                   interpolation='nearest')"
   ]
  },
  {
   "cell_type": "code",
   "execution_count": 3,
   "metadata": {},
   "outputs": [],
   "source": [
    "# This code allow the models to continuously pull images from their respective directories.\n",
    "train_image, train_label = next(generate_train)\n",
    "test_image, test_label = next(generate_test)\n",
    "val_image, val_label = next(generate_val)"
   ]
  },
  {
   "cell_type": "code",
   "execution_count": 4,
   "metadata": {},
   "outputs": [
    {
     "data": {
      "text/plain": [
       "1326"
      ]
     },
     "execution_count": 4,
     "metadata": {},
     "output_type": "execute_result"
    }
   ],
   "source": [
    "import os\n",
    "len(os.listdir('../data/train/NORMAL'))"
   ]
  },
  {
   "cell_type": "code",
   "execution_count": 5,
   "metadata": {},
   "outputs": [
    {
     "data": {
      "text/plain": [
       "3860"
      ]
     },
     "execution_count": 5,
     "metadata": {},
     "output_type": "execute_result"
    }
   ],
   "source": [
    "import os\n",
    "len(os.listdir('../data/train/PNEUMONIA/'))"
   ]
  },
  {
   "cell_type": "markdown",
   "metadata": {},
   "source": [
    "##### As you can see above the training data and the target data have a nearly 3:1 ratio.  For this reason SMOTE will be applied to the training data."
   ]
  },
  {
   "cell_type": "code",
   "execution_count": 4,
   "metadata": {},
   "outputs": [],
   "source": [
    "sm = SMOTE(random_state=42, sampling_strategy='minority')\n",
    "\n",
    "# SMOTE won't allow arrays with > 2 dimensions so images in train_image need to be resized\n",
    "train_image_rsz = []\n",
    "for i in range(len(train_image)):\n",
    "    train_image_rsz.append(train_image[i].reshape(1,-1))\n",
    "    \n",
    "train_image_rsz = np.array(train_image_rsz).reshape(50, 4096)"
   ]
  },
  {
   "cell_type": "code",
   "execution_count": 5,
   "metadata": {},
   "outputs": [],
   "source": [
    "train_image, train_label = sm.fit_resample(train_image_rsz, train_label)"
   ]
  },
  {
   "cell_type": "markdown",
   "metadata": {},
   "source": [
    "###### This function will plot the loss and accuracy of the train and validation data after each model and assists in making meaning ful changes in the model by visualizing how accuracy and loss of ach function interacts"
   ]
  },
  {
   "cell_type": "code",
   "execution_count": 6,
   "metadata": {},
   "outputs": [],
   "source": [
    "\n",
    "def plot_results(results):\n",
    "\n",
    "    val_loss = results.history['val_loss']\n",
    "    train_loss = results.history['loss']\n",
    "\n",
    "    val_accuracy = results.history['val_accuracy']\n",
    "    train_accuracy = results.history['accuracy']\n",
    "    \n",
    "    fig, ax = plt.subplots(1,2, figsize=(10,7))\n",
    "\n",
    "    ax[0].plot(results.epoch, val_loss, c='b', label='val')\n",
    "    ax[0].plot(results.epoch, train_loss, c='r', label='train')\n",
    "    ax[0].legend()\n",
    "    ax[0].set_title('Model Loss')\n",
    "\n",
    "    ax[1].plot(results.epoch, val_accuracy, c='b', label='val')\n",
    "    ax[1].plot(results.epoch, train_accuracy, c='r', label='train')\n",
    "    ax[1].set_title('Model Accuracy')\n",
    "\n",
    "    ax[1].legend() "
   ]
  },
  {
   "cell_type": "markdown",
   "metadata": {},
   "source": [
    "### The first simple model"
   ]
  },
  {
   "cell_type": "markdown",
   "metadata": {},
   "source": [
    "It is important to note the model has a random seed set as the first line of code for reproducability and a few lines of code after for resizing the arrays being entered into the function.  Though SMOTE needed the data to be a 2-dimensional array the CNN models need a three dimensional array to be fed into the function.  It may also be noted that the class weight parameter in model.fit is set as the weight variable created earlier."
   ]
  },
  {
   "cell_type": "code",
   "execution_count": 7,
   "metadata": {},
   "outputs": [
    {
     "name": "stdout",
     "output_type": "stream",
     "text": [
      "Epoch 1/10\n",
      "5/5 [==============================] - 1s 111ms/step - loss: 1.2793 - accuracy: 0.4868 - val_loss: 0.9013 - val_accuracy: 0.5000\n",
      "Epoch 2/10\n",
      "5/5 [==============================] - 0s 43ms/step - loss: 1.1002 - accuracy: 0.5000 - val_loss: 0.7190 - val_accuracy: 0.5208\n",
      "Epoch 3/10\n",
      "5/5 [==============================] - 0s 53ms/step - loss: 0.9518 - accuracy: 0.5000 - val_loss: 0.8127 - val_accuracy: 0.5000\n",
      "Epoch 4/10\n",
      "5/5 [==============================] - 0s 54ms/step - loss: 0.8477 - accuracy: 0.5263 - val_loss: 0.6538 - val_accuracy: 0.5833\n",
      "Epoch 5/10\n",
      "5/5 [==============================] - 0s 41ms/step - loss: 0.7529 - accuracy: 0.6316 - val_loss: 0.6394 - val_accuracy: 0.6042\n",
      "Epoch 6/10\n",
      "5/5 [==============================] - 0s 56ms/step - loss: 0.6704 - accuracy: 0.6579 - val_loss: 0.6589 - val_accuracy: 0.6042\n",
      "Epoch 7/10\n",
      "5/5 [==============================] - 0s 55ms/step - loss: 0.5903 - accuracy: 0.7632 - val_loss: 0.5579 - val_accuracy: 0.7500\n",
      "Epoch 8/10\n",
      "5/5 [==============================] - 0s 45ms/step - loss: 0.5121 - accuracy: 0.8553 - val_loss: 0.5684 - val_accuracy: 0.6875\n",
      "Epoch 9/10\n",
      "5/5 [==============================] - 0s 56ms/step - loss: 0.4430 - accuracy: 0.8684 - val_loss: 0.5313 - val_accuracy: 0.7500\n",
      "Epoch 10/10\n",
      "5/5 [==============================] - 0s 52ms/step - loss: 0.3808 - accuracy: 0.8947 - val_loss: 0.5110 - val_accuracy: 0.7500\n"
     ]
    }
   ],
   "source": [
    "tf.random.set_seed(7)\n",
    "\n",
    "train_image_inflate = []    \n",
    "for i in range(len(train_image)):\n",
    "    train_image_inflate.append(train_image[i].reshape(64,64,1))\n",
    "train_image_inflate = np.array(train_image_inflate).reshape(76,64,64,1)\n",
    "\n",
    "model = tf.keras.models.Sequential()\n",
    "\n",
    "# Instantiating the model\n",
    "model.add(Conv2D(10, 3, activation='relu', input_shape=(64,64,1), padding='same'))\n",
    "model.add(MaxPooling2D(2,2))\n",
    "\n",
    "model.add(k.layers.Flatten())\n",
    "model.add(Dense(units=1, activation='sigmoid'))\n",
    "\n",
    "# Compiler layer\n",
    "model.compile(optimizer='adam', \n",
    "              loss='binary_crossentropy', \n",
    "              metrics=['accuracy'])\n",
    "\n",
    "# Fitting the model\n",
    "results1 = model.fit(train_image_inflate, train_label, \n",
    "           validation_data=(val_image, val_label),\n",
    "           class_weight=train_weights,\n",
    "           epochs=10, \n",
    "           steps_per_epoch=5)\n"
   ]
  },
  {
   "cell_type": "code",
   "execution_count": 46,
   "metadata": {},
   "outputs": [
    {
     "data": {
      "image/png": "[encoded data removed]",
      "text/plain": [
       "<Figure size 720x504 with 2 Axes>"
      ]
     },
     "metadata": {
      "needs_background": "light"
     },
     "output_type": "display_data"
    }
   ],
   "source": [
    "plot_results(results1)"
   ]
  },
  {
   "cell_type": "code",
   "execution_count": 13,
   "metadata": {},
   "outputs": [
    {
     "name": "stdout",
     "output_type": "stream",
     "text": [
      "2/2 [==============================] - 0s 4ms/step - loss: 0.5110 - accuracy: 0.7500\n"
     ]
    },
    {
     "data": {
      "text/plain": [
       "[0.5109569430351257, 0.75]"
      ]
     },
     "execution_count": 13,
     "metadata": {},
     "output_type": "execute_result"
    }
   ],
   "source": [
    "model.evaluate(val_image, val_label)"
   ]
  },
  {
   "cell_type": "code",
   "execution_count": 15,
   "metadata": {},
   "outputs": [],
   "source": [
    "y_val_hat = model.predict_classes(val_image)"
   ]
  },
  {
   "cell_type": "code",
   "execution_count": 17,
   "metadata": {},
   "outputs": [
    {
     "data": {
      "image/png": "[encoded data removed]",
      "text/plain": [
       "<Figure size 432x288 with 1 Axes>"
      ]
     },
     "metadata": {},
     "output_type": "display_data"
    }
   ],
   "source": [
    "sns.heatmap(confusion_matrix(val_label, y_val_hat), annot=True, fmt='d',cmap='Blues', cbar=False,\n",
    "           xticklabels=False, yticklabels=False,);"
   ]
  },
  {
   "cell_type": "code",
   "execution_count": 19,
   "metadata": {},
   "outputs": [
    {
     "data": {
      "text/plain": [
       "0.7142857142857143"
      ]
     },
     "execution_count": 19,
     "metadata": {},
     "output_type": "execute_result"
    }
   ],
   "source": [
    "f1_score(val_label, y_val_hat)"
   ]
  },
  {
   "cell_type": "code",
   "execution_count": 18,
   "metadata": {},
   "outputs": [
    {
     "name": "stdout",
     "output_type": "stream",
     "text": [
      "2/2 [==============================] - 0s 11ms/step - loss: 0.5285 - accuracy: 0.7600\n"
     ]
    },
    {
     "data": {
      "text/plain": [
       "[0.5285189747810364, 0.7599999904632568]"
      ]
     },
     "execution_count": 18,
     "metadata": {},
     "output_type": "execute_result"
    }
   ],
   "source": [
    "model.evaluate(test_image, test_label)"
   ]
  },
  {
   "cell_type": "markdown",
   "metadata": {},
   "source": [
    "### Evaluation of FSM"
   ]
  },
  {
   "cell_type": "markdown",
   "metadata": {},
   "source": [
    "Though the results of the model as tested by the validation and test scores show high accuracy ratings of .71 and .76 respectively the loss in both models is fairly high, above .5.  This is likely due to how the function checks against false negatives.  Since the data set was balanced by SMOTE, it is likely giving high penalizations to bad predictions causing a higher loss.  In addition to the high loss, the disproportionate performace by the training data as compared to the validation and test data show evidence of an overfit model.  This problem is usually caused by a model that is too complicated for the data it is working with.  In Convolutional Neural Networks this can be rectified by tuning the hyperparameters of the model."
   ]
  },
  {
   "cell_type": "markdown",
   "metadata": {},
   "source": [
    "### The Final model"
   ]
  },
  {
   "cell_type": "code",
   "execution_count": 18,
   "metadata": {
    "scrolled": true
   },
   "outputs": [
    {
     "name": "stdout",
     "output_type": "stream",
     "text": [
      "Epoch 1/30\n",
      "8/8 [==============================] - 0s 51ms/step - loss: 3.3192 - accuracy: 0.4737 - val_loss: 0.9117 - val_accuracy: 0.5000\n",
      "Epoch 2/30\n",
      "8/8 [==============================] - 0s 23ms/step - loss: 1.0832 - accuracy: 0.5921 - val_loss: 1.2053 - val_accuracy: 0.5417\n",
      "Epoch 3/30\n",
      "8/8 [==============================] - 0s 28ms/step - loss: 0.6539 - accuracy: 0.8816 - val_loss: 0.7154 - val_accuracy: 0.6667\n",
      "Epoch 4/30\n",
      "8/8 [==============================] - 0s 31ms/step - loss: 0.5835 - accuracy: 0.8289 - val_loss: 0.8736 - val_accuracy: 0.6250\n",
      "Epoch 5/30\n",
      "8/8 [==============================] - 0s 27ms/step - loss: 0.5037 - accuracy: 0.8816 - val_loss: 0.6422 - val_accuracy: 0.7083\n",
      "Epoch 6/30\n",
      "8/8 [==============================] - 0s 23ms/step - loss: 0.3454 - accuracy: 0.9474 - val_loss: 0.6580 - val_accuracy: 0.7292\n",
      "Epoch 7/30\n",
      "8/8 [==============================] - 0s 26ms/step - loss: 0.3042 - accuracy: 0.9474 - val_loss: 0.6338 - val_accuracy: 0.7083\n",
      "Epoch 8/30\n",
      "8/8 [==============================] - 0s 24ms/step - loss: 0.2610 - accuracy: 1.0000 - val_loss: 0.5991 - val_accuracy: 0.7500\n",
      "Epoch 9/30\n",
      "8/8 [==============================] - 0s 28ms/step - loss: 0.2330 - accuracy: 1.0000 - val_loss: 0.5978 - val_accuracy: 0.7083\n",
      "Epoch 10/30\n",
      "8/8 [==============================] - 0s 28ms/step - loss: 0.2092 - accuracy: 1.0000 - val_loss: 0.5979 - val_accuracy: 0.7083\n",
      "Epoch 11/30\n",
      "8/8 [==============================] - 0s 27ms/step - loss: 0.1925 - accuracy: 1.0000 - val_loss: 0.5940 - val_accuracy: 0.7292\n",
      "Epoch 12/30\n",
      "8/8 [==============================] - 0s 33ms/step - loss: 0.1784 - accuracy: 1.0000 - val_loss: 0.5904 - val_accuracy: 0.7292\n",
      "Epoch 13/30\n",
      "8/8 [==============================] - 0s 32ms/step - loss: 0.1687 - accuracy: 1.0000 - val_loss: 0.5871 - val_accuracy: 0.7292\n",
      "Epoch 14/30\n",
      "8/8 [==============================] - 0s 30ms/step - loss: 0.1548 - accuracy: 1.0000 - val_loss: 0.5896 - val_accuracy: 0.7292\n",
      "Epoch 15/30\n",
      "8/8 [==============================] - 0s 41ms/step - loss: 0.1461 - accuracy: 1.0000 - val_loss: 0.5947 - val_accuracy: 0.7500\n",
      "Epoch 16/30\n",
      "8/8 [==============================] - 0s 32ms/step - loss: 0.1367 - accuracy: 1.0000 - val_loss: 0.5704 - val_accuracy: 0.7292\n",
      "Epoch 17/30\n",
      "8/8 [==============================] - 0s 31ms/step - loss: 0.1282 - accuracy: 1.0000 - val_loss: 0.5885 - val_accuracy: 0.7500\n",
      "Epoch 18/30\n",
      "8/8 [==============================] - 0s 29ms/step - loss: 0.1211 - accuracy: 1.0000 - val_loss: 0.5712 - val_accuracy: 0.7292\n",
      "Epoch 19/30\n",
      "8/8 [==============================] - 0s 41ms/step - loss: 0.1133 - accuracy: 1.0000 - val_loss: 0.5905 - val_accuracy: 0.7292\n"
     ]
    }
   ],
   "source": [
    "tf.random.set_seed(7)\n",
    "\n",
    "train_image_inflate = []    \n",
    "for i in range(len(train_image)):\n",
    "    train_image_inflate.append(train_image[i].reshape(64,64,1))\n",
    "train_image_inflate = np.array(train_image_inflate).reshape(76,64,64,1)\n",
    "\n",
    "model3 = tf.keras.models.Sequential()\n",
    "\n",
    "# Da'model\n",
    "model3.add(Conv2D(10, 3, activation='tanh', input_shape=(64,64,1), padding='same',\n",
    "                  activity_regularizer=regularizers.l2(.0001))\n",
    "model3.add(MaxPooling2D(2,2))\n",
    "\n",
    "# Added Dropout layer\n",
    "model3.add(Dropout(rate=.2))\n",
    "\n",
    "# Added \n",
    "model3.add(Conv2D(20, 3, activation='tanh', padding='same',\n",
    "                  activity_regularizer=regularizers.l2(.0001)))                \n",
    "model3.add(MaxPooling2D(2,2))\n",
    "\n",
    "model3.add(Conv2D(30, 3, activation='tanh', padding='same',\n",
    "                  activity_regularizer=regularizers.l2(.0001)))                 \n",
    "model3.add(MaxPooling2D(2,2))\n",
    "\n",
    "model3.add(Conv2D(40, 3, activation='tanh', padding='same',\n",
    "                  activity_regularizer=regularizers.l2(.0001)))\n",
    "model3.add(MaxPooling2D(2,2))\n",
    "\n",
    "model3.add(Conv2D(50, 3, activation='tanh', padding='same',\n",
    "                  activity_regularizer=regularizers.l2(.0001)))\n",
    "model3.add(MaxPooling2D(2,2))\n",
    "\n",
    "model3.add(Conv2D(60, 3, activation='softmax', padding='same',\n",
    "                  activity_regularizer=regularizers.l2(.0001)))\n",
    "model3.add(k.layers.Flatten())\n",
    "\n",
    "model3.add(Dense(units=1, activation='sigmoid'))\n",
    "\n",
    "# Compiler layer\n",
    "model3.compile(loss=BinaryFocalLoss(gamma=2),\n",
    "               optimizer='Adam', \n",
    "               metrics=['accuracy'])\n",
    " \n",
    "#Added early stopping\n",
    "early_stop = EarlyStopping(monitor='val_loss', min_delta=1e-6, \n",
    "                           patience=1, verbose=0, mode='min')\n",
    "\n",
    "# Fitting Da'model\n",
    "results3 = model3.fit(train_image_inflate, train_label, \n",
    "                      epochs=30,\n",
    "                      batch_size=10,\n",
    "                      validation_data=(val_image, val_label),\n",
    "                      class_weight=train_weights,                   \n",
    "                      callbacks=[early_stop]) "
   ]
  },
  {
   "cell_type": "code",
   "execution_count": null,
   "metadata": {},
   "outputs": [],
   "source": []
  },
  {
   "cell_type": "code",
   "execution_count": null,
   "metadata": {},
   "outputs": [],
   "source": []
  },
  {
   "cell_type": "code",
   "execution_count": 17,
   "metadata": {},
   "outputs": [],
   "source": []
  },
  {
   "cell_type": "code",
   "execution_count": null,
   "metadata": {},
   "outputs": [],
   "source": []
  }
 ],
 "metadata": {
  "kernelspec": {
   "display_name": "Python 3",
   "language": "python",
   "name": "python3"
  },
  "language_info": {
   "codemirror_mode": {
    "name": "ipython",
    "version": 3
   },
   "file_extension": ".py",
   "mimetype": "text/x-python",
   "name": "python",
   "nbconvert_exporter": "python",
   "pygments_lexer": "ipython3",
   "version": "3.6.9"
  }
 },
 "nbformat": 4,
 "nbformat_minor": 4
}
