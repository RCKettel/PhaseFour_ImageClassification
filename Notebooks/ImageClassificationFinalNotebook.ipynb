{
 "cells": [
  {
   "cell_type": "markdown",
   "metadata": {},
   "source": [
    "## Business Understanding"
   ]
  },
  {
   "cell_type": "markdown",
   "metadata": {},
   "source": [
    "For this project a Convolutional Neural Network deep learning model was created for a proof of concept that would predict if a patient had lungs infected with pneumonia. The best model showed a high level of accuracy which would show the least number of results that are that would predict the patient does not have pneumonia when they actually do. Or in other words, are false negatives."
   ]
  },
  {
   "cell_type": "markdown",
   "metadata": {},
   "source": [
    "## Accessing the Data"
   ]
  },
  {
   "cell_type": "markdown",
   "metadata": {},
   "source": [
    "Due to the number of images and the size of the dataset its recommended that it is downloaded to a folder and keras Image Data Generator and flow_from_directory methods are used to access it. The data can be downloaded from Keras [here](https://www.kaggle.com/paultimothymooney/chest-xray-pneumonia).  The data will be downloaded as a .zip file and will require a program to access it.  Once opened exploration will reveal a number of redundant or empty files that contain much of the same data or no data at all such as MACOSX.  These files were deleted since they were considered unnessecessary.  The approach used for this project was to take the train, val, and test files from their parent folder and access them directly to expedite access and reduce the amount of code.  "
   ]
  },
  {
   "cell_type": "markdown",
   "metadata": {},
   "source": [
    "## Data Description"
   ]
  },
  {
   "cell_type": "markdown",
   "metadata": {},
   "source": [
    " The data is pediatric X-ray images of lungs from 5863 patients. These images were split into three different sets: Train, Val, Test each containing subsets: Normal, and Pneumonia. This data took very little preperation since it was already split into training and validation sets.  The Val classes were small in comparison to the training data; as a result it was necessary to triple the number of samples by moving some of the images from the Train data folders to the Val folder.  This was done physically using the file explorer or finder on the local machine.  Due to a nearly three to one imbalance of images in the training data to images the target data SMOTE was used to better balance the data.  "
   ]
  },
  {
   "cell_type": "code",
   "execution_count": 1,
   "metadata": {},
   "outputs": [],
   "source": [
    "# Importing libraries\n",
    "import pandas as pd\n",
    "import numpy as np\n",
    "import keras as k\n",
    "import tensorflow as tf\n",
    "import matplotlib.pyplot as plt\n",
    "import seaborn as sns\n",
    "import warnings\n",
    "warnings.filterwarnings('ignore', category=DeprecationWarning)\n",
    "warnings.filterwarnings('ignore', category=FutureWarning)\n",
    "\n",
    "# Importing methods\n",
    "from tensorflow.keras.preprocessing.image import ImageDataGenerator\n",
    "from keras.models import Sequential\n",
    "from keras.layers import Dense, Conv2D, MaxPooling2D, Dropout\n",
    "from keras.callbacks import EarlyStopping\n",
    "from keras import regularizers\n",
    "from focal_loss import BinaryFocalLoss\n",
    "from imblearn.over_sampling import SMOTE\n",
    "from sklearn.metrics import f1_score, make_scorer, confusion_matrix"
   ]
  },
  {
   "cell_type": "markdown",
   "metadata": {},
   "source": [
    "### Instantiating ImageDataGenerator and flow_from_directory"
   ]
  },
  {
   "cell_type": "markdown",
   "metadata": {},
   "source": [
    "When instantiating the flow from directory method the color mode was changed to grayscale to expedite the processing of the data and class mode was set to binary since the model will be built to predict on discrete data. A loop is in clused after the Training Generator that is designed to create a weights that will help offset the low bias of the models and prevent overfitting."
   ]
  },
  {
   "cell_type": "code",
   "execution_count": 2,
   "metadata": {},
   "outputs": [
    {
     "name": "stdout",
     "output_type": "stream",
     "text": [
      "Found 5184 images belonging to 2 classes.\n",
      "Found 48 images belonging to 2 classes.\n",
      "Found 624 images belonging to 2 classes.\n"
     ]
    }
   ],
   "source": [
    "# Make Training Generator\n",
    "\n",
    "train_gen = ImageDataGenerator(rescale=1./256)\n",
    "generate_train = train_gen.flow_from_directory(directory=r'../data/train', seed=42,\n",
    "                                    color_mode='grayscale',\n",
    "                                    target_size=(64, 64), \n",
    "                                    batch_size=50, \n",
    "                                    class_mode='binary',\n",
    "                                    interpolation='nearest')\n",
    "\n",
    "# This loop generates weights based on the classes in the\n",
    "# training data\n",
    "from collections import Counter\n",
    "counter = Counter(generate_train.classes)                          \n",
    "max_val = float(max(counter.values()))       \n",
    "train_weights = {class_id : max_val/num_images for class_id, num_images in counter.items()}  \n",
    "\n",
    "# Make Val Generator\n",
    "\n",
    "val_gen = ImageDataGenerator(rescale=1./256)\n",
    "generate_val = val_gen.flow_from_directory(directory=r'../data/val', seed=42,\n",
    "                                   color_mode='grayscale',\n",
    "                                   target_size=(64,64),\n",
    "                                   batch_size=48, \n",
    "                                   class_mode='binary',\n",
    "                                   interpolation='nearest')\n",
    "\n",
    "\n",
    "# Maket Test Generator\n",
    "\n",
    "test_gen = ImageDataGenerator(rescale=1./256)\n",
    "generate_test = test_gen.flow_from_directory(directory=r'../data/test', seed=42,\n",
    "                                   color_mode='grayscale',\n",
    "                                   target_size=(64,64),\n",
    "                                   batch_size=50, \n",
    "                                   class_mode='binary',\n",
    "                                   interpolation='nearest')"
   ]
  },
  {
   "cell_type": "code",
   "execution_count": 5,
   "metadata": {},
   "outputs": [],
   "source": [
    "# This code allow the models to continuously pull images from their respective directories.\n",
    "train_image, train_label = next(generate_train)\n",
    "test_image, test_label = next(generate_test)\n",
    "val_image, val_label = next(generate_val)"
   ]
  },
  {
   "cell_type": "code",
   "execution_count": 6,
   "metadata": {},
   "outputs": [
    {
     "data": {
      "text/plain": [
       "1326"
      ]
     },
     "execution_count": 6,
     "metadata": {},
     "output_type": "execute_result"
    }
   ],
   "source": [
    "import os\n",
    "len(os.listdir('../data/train/NORMAL'))"
   ]
  },
  {
   "cell_type": "code",
   "execution_count": 7,
   "metadata": {},
   "outputs": [
    {
     "data": {
      "text/plain": [
       "3860"
      ]
     },
     "execution_count": 7,
     "metadata": {},
     "output_type": "execute_result"
    }
   ],
   "source": [
    "import os\n",
    "len(os.listdir('../data/train/PNEUMONIA/'))"
   ]
  },
  {
   "cell_type": "markdown",
   "metadata": {},
   "source": [
    "##### As you can see above the training data and the target data have a nearly 3:1 ratio.  For this reason SMOTE will be applied to the training data."
   ]
  },
  {
   "cell_type": "code",
   "execution_count": 8,
   "metadata": {},
   "outputs": [],
   "source": [
    "sm = SMOTE(random_state=42, sampling_strategy='minority')\n",
    "\n",
    "# SMOTE won't allow arrays with > 2 dimensions so images in train_image need to be resized\n",
    "train_image_rsz = []\n",
    "for i in range(len(train_image)):\n",
    "    train_image_rsz.append(train_image[i].reshape(1,-1))\n",
    "    \n",
    "train_image_rsz = np.array(train_image_rsz).reshape(50, 4096)"
   ]
  },
  {
   "cell_type": "code",
   "execution_count": 9,
   "metadata": {},
   "outputs": [],
   "source": [
    "train_image, train_label = sm.fit_resample(train_image_rsz, train_label)"
   ]
  },
  {
   "cell_type": "markdown",
   "metadata": {},
   "source": [
    "###### This function will plot the loss and accuracy of the train and validation data after each model and assists in making meaning ful changes in the model by visualizing how accuracy and loss of ach function interacts"
   ]
  },
  {
   "cell_type": "code",
   "execution_count": 102,
   "metadata": {},
   "outputs": [],
   "source": [
    "\n",
    "def plot_results(results):\n",
    "\n",
    "    val_loss = results.history['val_loss']\n",
    "    train_loss = results.history['loss']\n",
    "\n",
    "    val_accuracy = results.history['val_accuracy']\n",
    "    train_accuracy = results.history['accuracy']\n",
    "    \n",
    "    fig, ax = plt.subplots(1,2, figsize=(10,7))\n",
    "\n",
    "    ax[0].plot(results.epoch, val_loss, c='b', label='val')\n",
    "    ax[0].plot(results.epoch, train_loss, c='r', label='train')\n",
    "    ax[0].legend()\n",
    "    ax[0].set_title('Model Loss')\n",
    "\n",
    "    ax[1].plot(results.epoch, val_accuracy, c='b', label='val')\n",
    "    ax[1].plot(results.epoch, train_accuracy, c='r', label='train')\n",
    "    ax[1].set_title('Model Accuracy')\n",
    "\n",
    "    ax[1].legend() "
   ]
  },
  {
   "cell_type": "markdown",
   "metadata": {},
   "source": [
    "### The first simple model"
   ]
  },
  {
   "cell_type": "markdown",
   "metadata": {},
   "source": [
    "It is important to note the model has a random seed set as the first line of code for reproducability and a few lines of code after for resizing the arrays being entered into the function.  Though SMOTE needed the data to be a 2-dimensional array the CNN models need a three dimensional array to be fed into the function.  It may also be noted that the class weight parameter in model.fit is set as the weight variable created earlier."
   ]
  },
  {
   "cell_type": "code",
   "execution_count": 11,
   "metadata": {},
   "outputs": [
    {
     "name": "stdout",
     "output_type": "stream",
     "text": [
      "Epoch 1/10\n",
      "5/5 [==============================] - 0s 71ms/step - loss: 1.2793 - accuracy: 0.4868 - val_loss: 0.9013 - val_accuracy: 0.5000\n",
      "Epoch 2/10\n",
      "5/5 [==============================] - 0s 24ms/step - loss: 1.1002 - accuracy: 0.5000 - val_loss: 0.7190 - val_accuracy: 0.5208\n",
      "Epoch 3/10\n",
      "5/5 [==============================] - 0s 25ms/step - loss: 0.9518 - accuracy: 0.5000 - val_loss: 0.8127 - val_accuracy: 0.5000\n",
      "Epoch 4/10\n",
      "5/5 [==============================] - 0s 23ms/step - loss: 0.8477 - accuracy: 0.5263 - val_loss: 0.6538 - val_accuracy: 0.5833\n",
      "Epoch 5/10\n",
      "5/5 [==============================] - 0s 24ms/step - loss: 0.7529 - accuracy: 0.6316 - val_loss: 0.6394 - val_accuracy: 0.6042\n",
      "Epoch 6/10\n",
      "5/5 [==============================] - 0s 25ms/step - loss: 0.6704 - accuracy: 0.6579 - val_loss: 0.6589 - val_accuracy: 0.6042\n",
      "Epoch 7/10\n",
      "5/5 [==============================] - 0s 32ms/step - loss: 0.5903 - accuracy: 0.7632 - val_loss: 0.5579 - val_accuracy: 0.7500\n",
      "Epoch 8/10\n",
      "5/5 [==============================] - 0s 30ms/step - loss: 0.5121 - accuracy: 0.8553 - val_loss: 0.5684 - val_accuracy: 0.6875\n",
      "Epoch 9/10\n",
      "5/5 [==============================] - 0s 31ms/step - loss: 0.4430 - accuracy: 0.8684 - val_loss: 0.5313 - val_accuracy: 0.7500\n",
      "Epoch 10/10\n",
      "5/5 [==============================] - 0s 25ms/step - loss: 0.3808 - accuracy: 0.8947 - val_loss: 0.5110 - val_accuracy: 0.7500\n"
     ]
    }
   ],
   "source": [
    "tf.random.set_seed(7)\n",
    "\n",
    "# Reshaping data to fit model parameters\n",
    "train_image_inflate = []    \n",
    "for i in range(len(train_image)):\n",
    "    train_image_inflate.append(train_image[i].reshape(64,64,1))\n",
    "train_image_inflate = np.array(train_image_inflate).reshape(76,64,64,1)\n",
    "\n",
    "model = tf.keras.models.Sequential()\n",
    "\n",
    "# Instantiating the model\n",
    "model.add(Conv2D(10, 3, activation='relu', input_shape=(64,64,1), padding='same'))\n",
    "model.add(MaxPooling2D(2,2))\n",
    "\n",
    "model.add(k.layers.Flatten())\n",
    "model.add(Dense(units=1, activation='sigmoid'))\n",
    "\n",
    "# Compiler layer\n",
    "model.compile(optimizer='adam', \n",
    "              loss='binary_crossentropy', \n",
    "              metrics=['accuracy'])\n",
    "\n",
    "# Fitting the model\n",
    "results1 = model.fit(train_image_inflate, train_label, \n",
    "           validation_data=(val_image, val_label),\n",
    "           class_weight=train_weights,\n",
    "           epochs=10, \n",
    "           steps_per_epoch=5)\n"
   ]
  },
  {
   "cell_type": "code",
   "execution_count": 12,
   "metadata": {},
   "outputs": [
    {
     "data": {
      "image/png": "[encoded data removed]",
      "text/plain": [
       "<Figure size 720x504 with 2 Axes>"
      ]
     },
     "metadata": {
      "needs_background": "light"
     },
     "output_type": "display_data"
    }
   ],
   "source": [
    "plot_results(results1)"
   ]
  },
  {
   "cell_type": "code",
   "execution_count": 13,
   "metadata": {},
   "outputs": [
    {
     "name": "stdout",
     "output_type": "stream",
     "text": [
      "2/2 [==============================] - 0s 5ms/step - loss: 0.5110 - accuracy: 0.7500\n"
     ]
    },
    {
     "data": {
      "text/plain": [
       "[0.5109569430351257, 0.75]"
      ]
     },
     "execution_count": 13,
     "metadata": {},
     "output_type": "execute_result"
    }
   ],
   "source": [
    "model.evaluate(val_image, val_label)"
   ]
  },
  {
   "cell_type": "code",
   "execution_count": 49,
   "metadata": {},
   "outputs": [],
   "source": [
    "y_val_hat = model.predict_classes(val_image)"
   ]
  },
  {
   "cell_type": "code",
   "execution_count": 50,
   "metadata": {},
   "outputs": [
    {
     "data": {
      "image/png": "[encoded data removed]",
      "text/plain": [
       "<Figure size 432x288 with 1 Axes>"
      ]
     },
     "metadata": {},
     "output_type": "display_data"
    }
   ],
   "source": [
    "sns.heatmap(confusion_matrix(val_label, y_val_hat), annot=True, fmt='d',cmap='Blues', cbar=False,\n",
    "           xticklabels=False, yticklabels=False,);"
   ]
  },
  {
   "cell_type": "code",
   "execution_count": 46,
   "metadata": {},
   "outputs": [
    {
     "data": {
      "text/plain": [
       "0.7692307692307693"
      ]
     },
     "execution_count": 46,
     "metadata": {},
     "output_type": "execute_result"
    }
   ],
   "source": [
    "f1_score(test_label, y_val_hat)"
   ]
  },
  {
   "cell_type": "code",
   "execution_count": 51,
   "metadata": {},
   "outputs": [
    {
     "name": "stdout",
     "output_type": "stream",
     "text": [
      "2/2 [==============================] - 0s 5ms/step - loss: 0.5285 - accuracy: 0.7600\n"
     ]
    },
    {
     "data": {
      "text/plain": [
       "[0.5285189747810364, 0.7599999904632568]"
      ]
     },
     "execution_count": 51,
     "metadata": {},
     "output_type": "execute_result"
    }
   ],
   "source": [
    "model.evaluate(test_image, test_label)"
   ]
  },
  {
   "cell_type": "markdown",
   "metadata": {},
   "source": [
    "### Evaluation of FSM"
   ]
  },
  {
   "cell_type": "markdown",
   "metadata": {},
   "source": [
    "Though the results of the model as tested by the validation and test scores show high accuracy ratings of .71 and .76 respectively the loss in both models is fairly high, above .5.  This is likely due to how the function checks against false negatives.  Since the data set was balanced by SMOTE, it is likely giving high penalizations to bad predictions causing a higher loss.  In addition to the high loss, the disproportionate performace by the training data as compared to the validation and test data show evidence of an overfit model.  This problem is usually caused by a model that is too complicated for the data it is working with.  In Convolutional Neural Networks this can be rectified by tuning the hyperparameters of the model."
   ]
  },
  {
   "cell_type": "markdown",
   "metadata": {},
   "source": [
    "### The Final model"
   ]
  },
  {
   "cell_type": "markdown",
   "metadata": {},
   "source": [
    "The final model also focused on accuracy, was made up of eight layers. The instantiating convolutional layer two hidden concolutional layers, all followed by maxpooling layers, an added dropout layer, a flattening layer and a final dense sigmoid output layer. The activation of each convolutional layer, used a tanh activation which through expreimentation turned out to yeild the best results.  The dropout rate for the model ended as the standard twenty percent and the optimizer was adam as in the previous model. Since the Convolutional Neural Network didn't have an instantiated kernel, bias regularization was tested on the model but consistently yeilded bad results often lowering the accuracy of the data.  For these reasons an l2 activity weight regularizer was used to penalize the outgoing activity of each layer and an l2 regularizer may lower a sigmoids activity but it wont drop it entirely.  Early stopping was used as well to halt the progression of the models development before it began to degrade.  Finally, a non-standard focal loss function was added to penalize the effect of difficult to learn data and allow the model to more easily learn the data all which reduced loss, one of the major issues in the FSM."
   ]
  },
  {
   "cell_type": "code",
   "execution_count": 110,
   "metadata": {
    "scrolled": true
   },
   "outputs": [
    {
     "name": "stdout",
     "output_type": "stream",
     "text": [
      "Epoch 1/100\n",
      "8/8 [==============================] - 1s 142ms/step - loss: 0.4090 - accuracy: 0.5789 - val_loss: 0.2064 - val_accuracy: 0.5000\n",
      "Epoch 2/100\n",
      "8/8 [==============================] - 1s 114ms/step - loss: 0.2856 - accuracy: 0.5000 - val_loss: 0.2387 - val_accuracy: 0.5000\n",
      "Epoch 3/100\n",
      "8/8 [==============================] - 1s 111ms/step - loss: 0.2735 - accuracy: 0.5000 - val_loss: 0.1794 - val_accuracy: 0.6458\n",
      "Epoch 4/100\n",
      "8/8 [==============================] - 1s 110ms/step - loss: 0.2449 - accuracy: 0.5395 - val_loss: 0.1931 - val_accuracy: 0.5000\n",
      "Epoch 5/100\n",
      "8/8 [==============================] - 1s 105ms/step - loss: 0.2139 - accuracy: 0.5658 - val_loss: 0.1641 - val_accuracy: 0.7292\n",
      "Epoch 6/100\n",
      "8/8 [==============================] - 1s 99ms/step - loss: 0.1758 - accuracy: 0.7763 - val_loss: 0.1605 - val_accuracy: 0.7292\n",
      "Epoch 7/100\n",
      "8/8 [==============================] - 1s 100ms/step - loss: 0.1421 - accuracy: 0.8553 - val_loss: 0.1536 - val_accuracy: 0.7292\n",
      "Epoch 8/100\n",
      "8/8 [==============================] - 1s 99ms/step - loss: 0.1072 - accuracy: 0.8947 - val_loss: 0.1484 - val_accuracy: 0.8125\n",
      "Epoch 9/100\n",
      "8/8 [==============================] - 1s 96ms/step - loss: 0.0874 - accuracy: 0.9605 - val_loss: 0.1367 - val_accuracy: 0.7500\n",
      "Epoch 10/100\n",
      "8/8 [==============================] - 1s 94ms/step - loss: 0.0905 - accuracy: 0.8947 - val_loss: 0.1516 - val_accuracy: 0.7917\n",
      "Epoch 11/100\n",
      "8/8 [==============================] - 1s 116ms/step - loss: 0.0744 - accuracy: 0.9474 - val_loss: 0.1452 - val_accuracy: 0.8333\n",
      "Epoch 12/100\n",
      "8/8 [==============================] - 1s 129ms/step - loss: 0.0592 - accuracy: 0.9868 - val_loss: 0.1198 - val_accuracy: 0.8333\n",
      "Epoch 13/100\n",
      "8/8 [==============================] - 1s 116ms/step - loss: 0.0576 - accuracy: 0.9737 - val_loss: 0.1461 - val_accuracy: 0.8542\n",
      "Epoch 14/100\n",
      "8/8 [==============================] - 1s 179ms/step - loss: 0.0497 - accuracy: 0.9868 - val_loss: 0.1115 - val_accuracy: 0.8542\n",
      "Epoch 15/100\n",
      "8/8 [==============================] - 1s 178ms/step - loss: 0.0469 - accuracy: 0.9868 - val_loss: 0.1182 - val_accuracy: 0.8750\n",
      "Epoch 16/100\n",
      "8/8 [==============================] - 2s 221ms/step - loss: 0.0450 - accuracy: 0.9737 - val_loss: 0.1288 - val_accuracy: 0.8750\n",
      "Epoch 17/100\n",
      "8/8 [==============================] - 2s 221ms/step - loss: 0.0405 - accuracy: 1.0000 - val_loss: 0.1040 - val_accuracy: 0.8333\n",
      "Epoch 18/100\n",
      "8/8 [==============================] - 2s 227ms/step - loss: 0.0424 - accuracy: 0.9737 - val_loss: 0.1258 - val_accuracy: 0.8542\n",
      "Epoch 19/100\n",
      "8/8 [==============================] - 2s 226ms/step - loss: 0.0381 - accuracy: 1.0000 - val_loss: 0.1078 - val_accuracy: 0.8958\n",
      "Epoch 20/100\n",
      "8/8 [==============================] - 2s 227ms/step - loss: 0.0348 - accuracy: 0.9868 - val_loss: 0.0999 - val_accuracy: 0.8750\n",
      "Epoch 21/100\n",
      "8/8 [==============================] - 2s 223ms/step - loss: 0.0330 - accuracy: 1.0000 - val_loss: 0.1245 - val_accuracy: 0.8333\n",
      "Epoch 22/100\n",
      "8/8 [==============================] - 2s 232ms/step - loss: 0.0290 - accuracy: 1.0000 - val_loss: 0.0967 - val_accuracy: 0.8750\n",
      "Epoch 23/100\n",
      "8/8 [==============================] - 2s 222ms/step - loss: 0.0278 - accuracy: 1.0000 - val_loss: 0.1039 - val_accuracy: 0.8958\n",
      "Epoch 24/100\n",
      "8/8 [==============================] - 2s 223ms/step - loss: 0.0258 - accuracy: 1.0000 - val_loss: 0.0964 - val_accuracy: 0.8958\n",
      "Epoch 25/100\n",
      "8/8 [==============================] - 2s 188ms/step - loss: 0.0244 - accuracy: 1.0000 - val_loss: 0.0992 - val_accuracy: 0.8958\n",
      "Epoch 26/100\n",
      "8/8 [==============================] - 1s 183ms/step - loss: 0.0237 - accuracy: 1.0000 - val_loss: 0.0913 - val_accuracy: 0.8958\n",
      "Epoch 27/100\n",
      "8/8 [==============================] - 1s 184ms/step - loss: 0.0231 - accuracy: 1.0000 - val_loss: 0.0961 - val_accuracy: 0.8958\n",
      "Epoch 28/100\n",
      "8/8 [==============================] - 2s 195ms/step - loss: 0.0215 - accuracy: 1.0000 - val_loss: 0.0899 - val_accuracy: 0.8958\n",
      "Epoch 29/100\n",
      "8/8 [==============================] - 2s 188ms/step - loss: 0.0211 - accuracy: 1.0000 - val_loss: 0.0923 - val_accuracy: 0.8958\n",
      "Epoch 30/100\n",
      "8/8 [==============================] - 2s 211ms/step - loss: 0.0201 - accuracy: 1.0000 - val_loss: 0.0899 - val_accuracy: 0.8958\n",
      "Epoch 31/100\n",
      "8/8 [==============================] - 2s 195ms/step - loss: 0.0198 - accuracy: 1.0000 - val_loss: 0.0882 - val_accuracy: 0.8958\n",
      "Epoch 32/100\n",
      "8/8 [==============================] - 1s 113ms/step - loss: 0.0195 - accuracy: 1.0000 - val_loss: 0.0891 - val_accuracy: 0.8958\n",
      "Epoch 33/100\n",
      "8/8 [==============================] - 1s 124ms/step - loss: 0.0188 - accuracy: 1.0000 - val_loss: 0.0854 - val_accuracy: 0.8958\n",
      "Epoch 34/100\n",
      "8/8 [==============================] - 1s 124ms/step - loss: 0.0181 - accuracy: 1.0000 - val_loss: 0.0899 - val_accuracy: 0.8958\n",
      "Epoch 35/100\n",
      "8/8 [==============================] - 1s 135ms/step - loss: 0.0174 - accuracy: 1.0000 - val_loss: 0.0828 - val_accuracy: 0.8958\n",
      "Epoch 36/100\n",
      "8/8 [==============================] - 1s 133ms/step - loss: 0.0169 - accuracy: 1.0000 - val_loss: 0.0875 - val_accuracy: 0.8958\n",
      "Epoch 37/100\n",
      "8/8 [==============================] - 1s 129ms/step - loss: 0.0165 - accuracy: 1.0000 - val_loss: 0.0828 - val_accuracy: 0.8958\n",
      "Epoch 38/100\n",
      "8/8 [==============================] - 1s 126ms/step - loss: 0.0159 - accuracy: 1.0000 - val_loss: 0.0834 - val_accuracy: 0.8958\n"
     ]
    }
   ],
   "source": [
    "tf.random.set_seed(7)\n",
    "\n",
    "# Reshaping data to fit model parameters\n",
    "train_image_inflate = []    \n",
    "for i in range(len(train_image)):\n",
    "    train_image_inflate.append(train_image[i].reshape(64,64,1))\n",
    "train_image_inflate = np.array(train_image_inflate).reshape(76,64,64,1)\n",
    "\n",
    "finalModel = tf.keras.models.Sequential()\n",
    "\n",
    "\n",
    "finalModel.add(Conv2D(30, 3, activation='tanh', input_shape=(64,64,1), padding='same',\n",
    "                  activity_regularizer=regularizers.l2(.00001)))\n",
    "finalModel.add(MaxPooling2D(2,2))\n",
    "\n",
    "# Added Dropout layer\n",
    "finalModel.add(Dropout(rate=.20))\n",
    "\n",
    "finalModel.add(Conv2D(50, 3, activation='tanh', input_shape=(64,64,1), padding='same',\n",
    "                  activity_regularizer=regularizers.l2(.00001)))              \n",
    "finalModel.add(MaxPooling2D(2,2))\n",
    "\n",
    "finalModel.add(Conv2D(90, 3, activation='tanh', input_shape=(64,64,1), padding='same',\n",
    "                  activity_regularizer=regularizers.l2(.0001)))                 \n",
    "finalModel.add(MaxPooling2D(2,2))\n",
    "\n",
    "finalModel.add(k.layers.Flatten())\n",
    "\n",
    "finalModel.add(Dense(units=1, activation='sigmoid'))\n",
    "\n",
    "# Compiling layer\n",
    "finalModel.compile(loss=BinaryFocalLoss(gamma=2),\n",
    "               optimizer='Adam', \n",
    "               metrics=['accuracy'])\n",
    " \n",
    "#Added early stopping\n",
    "early_stop = EarlyStopping(monitor='val_loss', min_delta=1e-6, \n",
    "                           patience=3, verbose=0, mode='min')\n",
    "\n",
    "# Fitting Da'model\n",
    "results2 = finalModel.fit(train_image_inflate, train_label, \n",
    "                      epochs=100,\n",
    "                      batch_size=10,\n",
    "                      validation_data=(val_image, val_label),\n",
    "                      class_weight=train_weights,                   \n",
    "                      callbacks=[early_stop]) "
   ]
  },
  {
   "cell_type": "code",
   "execution_count": 111,
   "metadata": {},
   "outputs": [
    {
     "data": {
      "image/png": "[encoded data removed]",
      "text/plain": [
       "<Figure size 720x504 with 2 Axes>"
      ]
     },
     "metadata": {
      "needs_background": "light"
     },
     "output_type": "display_data"
    }
   ],
   "source": [
    "plot_results(results2)"
   ]
  },
  {
   "cell_type": "code",
   "execution_count": 112,
   "metadata": {},
   "outputs": [
    {
     "name": "stdout",
     "output_type": "stream",
     "text": [
      "2/2 [==============================] - 0s 26ms/step - loss: 0.0834 - accuracy: 0.8958\n"
     ]
    },
    {
     "data": {
      "text/plain": [
       "[0.08344689756631851, 0.8958333134651184]"
      ]
     },
     "execution_count": 112,
     "metadata": {},
     "output_type": "execute_result"
    }
   ],
   "source": [
    "finalModel.evaluate(val_image, val_label)"
   ]
  },
  {
   "cell_type": "code",
   "execution_count": 113,
   "metadata": {},
   "outputs": [
    {
     "name": "stdout",
     "output_type": "stream",
     "text": [
      "2/2 [==============================] - 0s 27ms/step - loss: 0.1258 - accuracy: 0.8000\n"
     ]
    },
    {
     "data": {
      "text/plain": [
       "[0.12580138444900513, 0.800000011920929]"
      ]
     },
     "execution_count": 113,
     "metadata": {},
     "output_type": "execute_result"
    }
   ],
   "source": [
    "finalModel.evaluate(test_image, test_label)"
   ]
  },
  {
   "cell_type": "code",
   "execution_count": 115,
   "metadata": {},
   "outputs": [],
   "source": [
    "y_val_hat2 = finalModel.predict_classes(val_image)"
   ]
  },
  {
   "cell_type": "code",
   "execution_count": 116,
   "metadata": {
    "scrolled": true
   },
   "outputs": [
    {
     "data": {
      "image/png": "[encoded data removed]",
      "text/plain": [
       "<Figure size 432x288 with 1 Axes>"
      ]
     },
     "metadata": {},
     "output_type": "display_data"
    }
   ],
   "source": [
    "from sklearn.metrics import plot_confusion_matrix\n",
    "\n",
    "sns.heatmap(confusion_matrix(val_label, y_val_hat2),cmap='Blues',annot=True, fmt='d',\n",
    "            cbar=False, xticklabels=False, yticklabels=False);\n",
    "plt.savefig('FinalMconfusion')"
   ]
  },
  {
   "cell_type": "markdown",
   "metadata": {},
   "source": [
    "### Final Model Evaluation"
   ]
  },
  {
   "cell_type": "markdown",
   "metadata": {},
   "source": [
    "This model shows much less evidence of being overfit. Though the accuracy of the training data at 1.0 is still unrealistic in comparison to the val data being at .89, the two correlate much better in the plot of thier results.  The loss is also much lower as the focal loss function lowered the number of bad predictions by making the model learn the data at a more even rate.  The final test scores showed the model was able to generalize to unseen data as it showed an accuracy of .80 and a loss of .126."
   ]
  }
 ],
 "metadata": {
  "kernelspec": {
   "display_name": "Python 3",
   "language": "python",
   "name": "python3"
  },
  "language_info": {
   "codemirror_mode": {
    "name": "ipython",
    "version": 3
   },
   "file_extension": ".py",
   "mimetype": "text/x-python",
   "name": "python",
   "nbconvert_exporter": "python",
   "pygments_lexer": "ipython3",
   "version": "3.6.9"
  }
 },
 "nbformat": 4,
 "nbformat_minor": 4
}
