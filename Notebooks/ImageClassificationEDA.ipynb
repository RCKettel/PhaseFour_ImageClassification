{
 "cells": [
  {
   "cell_type": "code",
   "execution_count": 273,
   "metadata": {},
   "outputs": [],
   "source": [
    "import pandas as pd\n",
    "import numpy as np\n",
    "import keras as k\n",
    "import tensorflow as tf\n",
    "import kerastuner as kt\n",
    "import matplotlib.pyplot as plt\n",
    "import seaborn as sns\n",
    "import warnings\n",
    "warnings.filterwarnings('ignore', category=DeprecationWarning)\n",
    "warnings.filterwarnings('ignore', category=FutureWarning)\n",
    "\n",
    "from tensorflow.keras.preprocessing.image import ImageDataGenerator\n",
    "from keras.models import Sequential\n",
    "from keras.layers import Dense, Conv2D, MaxPooling2D, Dropout\n",
    "from keras.callbacks import EarlyStopping\n",
    "from keras import regularizers\n",
    "from focal_loss import BinaryFocalLoss\n",
    "from imblearn.over_sampling import SMOTE\n",
    "from sklearn.metrics import f1_score, make_scorer, confusion_matrix"
   ]
  },
  {
   "cell_type": "markdown",
   "metadata": {},
   "source": [
    "## My Goal/Notes/Ideas"
   ]
  },
  {
   "cell_type": "markdown",
   "metadata": {},
   "source": [
    "To build a deep learning image classification model can identify pnemonia based on a set of X-ray images.\n",
    "\n",
    " - Type I error(FP): predict pnemonia but does not have it.\n",
    " - Type II error(FN): has pnemonia but predict no pnemonia.\n",
    " \n",
    "Based on this I feel I should make lungs with pnemonia my target variables so these will be my Y-values.\n",
    "\n",
    "I should also consider concentrating on accuracy or the F1 score.  Maybe try tweaking a model for each?"
   ]
  },
  {
   "cell_type": "code",
   "execution_count": null,
   "metadata": {
    "scrolled": true
   },
   "outputs": [],
   "source": [
    "!pip install git+https://github.com/artemmavrin/focal-loss.git"
   ]
  },
  {
   "cell_type": "code",
   "execution_count": null,
   "metadata": {
    "scrolled": false
   },
   "outputs": [],
   "source": [
    "!pip install -U imbalanced-learn"
   ]
  },
  {
   "cell_type": "code",
   "execution_count": null,
   "metadata": {},
   "outputs": [],
   "source": [
    "!pip install -q -U keras-tuner"
   ]
  },
  {
   "cell_type": "markdown",
   "metadata": {},
   "source": [
    "## Import data EDA"
   ]
  },
  {
   "cell_type": "code",
   "execution_count": 292,
   "metadata": {},
   "outputs": [
    {
     "name": "stdout",
     "output_type": "stream",
     "text": [
      "Found 5184 images belonging to 2 classes.\n",
      "Found 48 images belonging to 2 classes.\n",
      "Found 624 images belonging to 2 classes.\n"
     ]
    }
   ],
   "source": [
    "# Make Training Generator\n",
    "\n",
    "train_gen = ImageDataGenerator(rescale=1./256)\n",
    "generate_train = train_gen.flow_from_directory(directory=r'../data/train', seed=42,\n",
    "                                    color_mode='grayscale',\n",
    "                                    target_size=(64, 64), \n",
    "                                    batch_size=50, \n",
    "                                    class_mode='binary',\n",
    "                                    interpolation='nearest')\n",
    "\n",
    "from collections import Counter\n",
    "counter = Counter(generate_train.classes)                          \n",
    "max_val = float(max(counter.values()))       \n",
    "train_weights = {class_id : max_val/num_images for class_id, num_images in counter.items()}  \n",
    "\n",
    "# Make Val Generator\n",
    "\n",
    "val_gen = ImageDataGenerator(rescale=1./256)\n",
    "generate_val = val_gen.flow_from_directory(directory=r'../data/val', seed=42,\n",
    "                                   color_mode='grayscale',\n",
    "                                   target_size=(64,64),\n",
    "                                   batch_size=48, \n",
    "                                   class_mode='binary',\n",
    "                                   interpolation='nearest')\n",
    "\n",
    "\n",
    "# Maket Test Generator\n",
    "\n",
    "test_gen = ImageDataGenerator(rescale=1./256)\n",
    "generate_test = test_gen.flow_from_directory(directory=r'../data/test', seed=42,\n",
    "                                   color_mode='grayscale',\n",
    "                                   target_size=(64,64),\n",
    "                                   batch_size=50, \n",
    "                                   class_mode='binary',\n",
    "                                   interpolation='nearest')\n"
   ]
  },
  {
   "cell_type": "code",
   "execution_count": 293,
   "metadata": {},
   "outputs": [],
   "source": [
    "train_image, train_label = next(generate_train)\n",
    "test_image, test_label = next(generate_test)\n",
    "val_image, val_label = next(generate_val)"
   ]
  },
  {
   "cell_type": "code",
   "execution_count": 32,
   "metadata": {},
   "outputs": [
    {
     "data": {
      "text/plain": [
       "(76, 4096)"
      ]
     },
     "execution_count": 32,
     "metadata": {},
     "output_type": "execute_result"
    }
   ],
   "source": [
    "train_image.shape"
   ]
  },
  {
   "cell_type": "code",
   "execution_count": 33,
   "metadata": {},
   "outputs": [
    {
     "data": {
      "text/plain": [
       "(76,)"
      ]
     },
     "execution_count": 33,
     "metadata": {},
     "output_type": "execute_result"
    }
   ],
   "source": [
    "train_label.shape"
   ]
  },
  {
   "cell_type": "code",
   "execution_count": null,
   "metadata": {},
   "outputs": [],
   "source": [
    "print(train_gen.dtype)\n",
    "print(val_gen.dtype)\n",
    "print(test_gen.dtype)"
   ]
  },
  {
   "cell_type": "markdown",
   "metadata": {},
   "source": [
    "## Create FSM"
   ]
  },
  {
   "cell_type": "code",
   "execution_count": 294,
   "metadata": {
    "scrolled": false
   },
   "outputs": [
    {
     "name": "stdout",
     "output_type": "stream",
     "text": [
      "Epoch 1/10\n",
      "10/10 [==============================] - ETA: 0s - loss: 0.2947 - accuracy: 0.20 - ETA: 0s - loss: 0.6400 - accuracy: 0.23 - 0s 31ms/step - loss: 0.5166 - accuracy: 0.2800 - val_loss: 0.1722 - val_accuracy: 0.5000\n",
      "Epoch 2/10\n",
      "10/10 [==============================] - ETA: 0s - loss: 0.2892 - accuracy: 0.60 - ETA: 0s - loss: 0.2572 - accuracy: 0.70 - ETA: 0s - loss: 0.2171 - accuracy: 0.80 - 0s 19ms/step - loss: 0.2384 - accuracy: 0.7800 - val_loss: 0.1540 - val_accuracy: 0.7292\n",
      "Epoch 3/10\n",
      "10/10 [==============================] - ETA: 0s - loss: 0.1846 - accuracy: 1.00 - ETA: 0s - loss: 0.2047 - accuracy: 0.64 - ETA: 0s - loss: 0.2049 - accuracy: 0.58 - 0s 16ms/step - loss: 0.2049 - accuracy: 0.5800 - val_loss: 0.1490 - val_accuracy: 0.6875\n",
      "Epoch 4/10\n",
      "10/10 [==============================] - ETA: 0s - loss: 0.1081 - accuracy: 1.00 - ETA: 0s - loss: 0.1466 - accuracy: 0.86 - 0s 14ms/step - loss: 0.1652 - accuracy: 0.9000 - val_loss: 0.1386 - val_accuracy: 0.7500\n",
      "Epoch 5/10\n",
      "10/10 [==============================] - ETA: 0s - loss: 0.1397 - accuracy: 0.60 - ETA: 0s - loss: 0.1482 - accuracy: 0.63 - ETA: 0s - loss: 0.1416 - accuracy: 0.74 - 0s 17ms/step - loss: 0.1416 - accuracy: 0.7400 - val_loss: 0.1594 - val_accuracy: 0.5833\n",
      "Epoch 6/10\n",
      "10/10 [==============================] - ETA: 0s - loss: 0.0411 - accuracy: 1.00 - ETA: 0s - loss: 0.1427 - accuracy: 0.86 - ETA: 0s - loss: 0.1306 - accuracy: 0.86 - 0s 17ms/step - loss: 0.1306 - accuracy: 0.8600 - val_loss: 0.1310 - val_accuracy: 0.7500\n",
      "Epoch 7/10\n",
      "10/10 [==============================] - ETA: 0s - loss: 0.0994 - accuracy: 1.00 - ETA: 0s - loss: 0.0887 - accuracy: 1.00 - ETA: 0s - loss: 0.0961 - accuracy: 1.00 - 0s 21ms/step - loss: 0.1005 - accuracy: 1.0000 - val_loss: 0.1464 - val_accuracy: 0.6875\n",
      "Epoch 8/10\n",
      "10/10 [==============================] - ETA: 0s - loss: 0.0507 - accuracy: 1.00 - ETA: 0s - loss: 0.0863 - accuracy: 1.00 - ETA: 0s - loss: 0.0759 - accuracy: 1.00 - 0s 17ms/step - loss: 0.0759 - accuracy: 1.0000 - val_loss: 0.1206 - val_accuracy: 0.7708\n",
      "Epoch 9/10\n",
      "10/10 [==============================] - ETA: 0s - loss: 0.0570 - accuracy: 1.00 - ETA: 0s - loss: 0.0653 - accuracy: 1.00 - ETA: 0s - loss: 0.0675 - accuracy: 1.00 - 0s 17ms/step - loss: 0.0675 - accuracy: 1.0000 - val_loss: 0.1395 - val_accuracy: 0.7292\n",
      "Epoch 10/10\n",
      "10/10 [==============================] - ETA: 0s - loss: 0.0600 - accuracy: 1.00 - ETA: 0s - loss: 0.0543 - accuracy: 1.00 - ETA: 0s - loss: 0.0553 - accuracy: 1.00 - 0s 17ms/step - loss: 0.0553 - accuracy: 1.0000 - val_loss: 0.1199 - val_accuracy: 0.7917\n"
     ]
    },
    {
     "data": {
      "image/png": "[encoded data removed]",
      "text/plain": [
       "<Figure size 720x504 with 2 Axes>"
      ]
     },
     "metadata": {
      "needs_background": "light"
     },
     "output_type": "display_data"
    }
   ],
   "source": [
    "# USING A CNN MODEL!!!\n",
    "\n",
    "train_image_inflate = []    \n",
    "for i in range(len(train_image)):\n",
    "    train_image_inflate.append(train_image[i].reshape(64,64,1))\n",
    "\n",
    "train_image_inflate = np.array(train_image_inflate).reshape(50,64,64,1)\n",
    "\n",
    "model = tf.keras.models.Sequential()\n",
    "\n",
    "# Da'model\n",
    "model.add(Conv2D(10, 3, activation='relu', input_shape=(64,64,1), padding='same'))\n",
    "model.add(MaxPooling2D(2,2))\n",
    "model.add(k.layers.Flatten())\n",
    "model.add(Dense(units=1, activation='sigmoid'))\n",
    "\n",
    "# Compiler layer\n",
    "model.compile(optimizer='adam', \n",
    "              loss=BinaryFocalLoss(gamma=2), \n",
    "              metrics=['accuracy'])\n",
    "\n",
    "# Fitting Da'model\n",
    "results1 = model.fit(train_image_inflate, train_label, \n",
    "                  validation_data =(val_image, val_label), \n",
    "                  epochs=10, \n",
    "                  steps_per_epoch=10, \n",
    "                  class_weight=train_weights) \n"
   ]
  },
  {
   "cell_type": "code",
   "execution_count": null,
   "metadata": {},
   "outputs": [],
   "source": [
    "import os\n",
    "len(os.listdir('../data/train/NORMAL'))"
   ]
  },
  {
   "cell_type": "code",
   "execution_count": null,
   "metadata": {},
   "outputs": [],
   "source": [
    "import os\n",
    "len(os.listdir('../data/train/PNEUMONIA/'))"
   ]
  },
  {
   "cell_type": "code",
   "execution_count": null,
   "metadata": {},
   "outputs": [],
   "source": [
    "model.summary()"
   ]
  },
  {
   "cell_type": "code",
   "execution_count": 496,
   "metadata": {},
   "outputs": [],
   "source": [
    "def plot_results(results):\n",
    "    \n",
    "    '''\n",
    "    After running a model, plot the training and validation\n",
    "    scores for both loss and accuracy.\n",
    "    '''\n",
    "    \n",
    "    val_loss = results.history['val_loss']\n",
    "    train_loss = results.history['loss']\n",
    "\n",
    "    val_accuracy = results.history['val_accuracy']\n",
    "    train_accuracy = results.history['accuracy']\n",
    "    \n",
    "    fig, ax = plt.subplots(1,2, figsize=(10,7))\n",
    "\n",
    "    ax[0].plot(results.epoch, val_loss, c='b', label='val')\n",
    "    ax[0].plot(results.epoch, train_loss, c='r', label='train')\n",
    "    ax[0].legend()\n",
    "    ax[0].set_title('Model Loss')\n",
    "\n",
    "    ax[1].plot(results.epoch, val_accuracy, c='b', label='val')\n",
    "    ax[1].plot(results.epoch, train_accuracy, c='r', label='train')\n",
    "    ax[1].set_title('Model Accuracy')\n",
    "\n",
    "    ax[1].legend()\n",
    "    \n",
    "#     plt.savefig('FinModel')"
   ]
  },
  {
   "cell_type": "markdown",
   "metadata": {},
   "source": [
    "## Validating data from first model?"
   ]
  },
  {
   "cell_type": "code",
   "execution_count": 401,
   "metadata": {
    "scrolled": true
   },
   "outputs": [
    {
     "name": "stdout",
     "output_type": "stream",
     "text": [
      "Epoch 1/50\n",
      "5/5 [==============================] - ETA: 0s - loss: 1.2637 - accuracy: 0.60 - ETA: 0s - loss: 1.1232 - accuracy: 0.38 - 0s 55ms/step - loss: 1.1232 - accuracy: 0.3800 - val_loss: 0.6924 - val_accuracy: 0.5000\n",
      "Epoch 2/50\n",
      "5/5 [==============================] - ETA: 0s - loss: 1.0635 - accuracy: 0.70 - ETA: 0s - loss: 0.9733 - accuracy: 0.76 - 0s 46ms/step - loss: 0.9733 - accuracy: 0.7600 - val_loss: 0.7159 - val_accuracy: 0.5000\n",
      "Epoch 3/50\n",
      "5/5 [==============================] - ETA: 0s - loss: 1.0978 - accuracy: 0.70 - ETA: 0s - loss: 0.8890 - accuracy: 0.82 - 0s 24ms/step - loss: 0.8890 - accuracy: 0.8200 - val_loss: 0.6476 - val_accuracy: 0.6250\n",
      "Epoch 4/50\n",
      "5/5 [==============================] - ETA: 0s - loss: 0.8263 - accuracy: 0.60 - ETA: 0s - loss: 0.8215 - accuracy: 0.66 - 0s 22ms/step - loss: 0.8215 - accuracy: 0.6600 - val_loss: 0.6236 - val_accuracy: 0.7292\n",
      "Epoch 5/50\n",
      "5/5 [==============================] - ETA: 0s - loss: 0.7728 - accuracy: 0.90 - ETA: 0s - loss: 0.7376 - accuracy: 0.96 - 0s 21ms/step - loss: 0.7376 - accuracy: 0.9600 - val_loss: 0.6088 - val_accuracy: 0.7292\n",
      "Epoch 6/50\n",
      "5/5 [==============================] - ETA: 0s - loss: 0.5236 - accuracy: 1.00 - ETA: 0s - loss: 0.6842 - accuracy: 1.00 - 0s 21ms/step - loss: 0.6842 - accuracy: 1.0000 - val_loss: 0.5921 - val_accuracy: 0.7292\n",
      "Epoch 7/50\n",
      "5/5 [==============================] - ETA: 0s - loss: 0.5731 - accuracy: 1.00 - ETA: 0s - loss: 0.6002 - accuracy: 1.00 - 0s 22ms/step - loss: 0.6002 - accuracy: 1.0000 - val_loss: 0.5704 - val_accuracy: 0.7500\n",
      "Epoch 8/50\n",
      "5/5 [==============================] - ETA: 0s - loss: 0.5800 - accuracy: 1.00 - ETA: 0s - loss: 0.5347 - accuracy: 1.00 - 0s 21ms/step - loss: 0.5347 - accuracy: 1.0000 - val_loss: 0.5508 - val_accuracy: 0.7292\n",
      "Epoch 9/50\n",
      "5/5 [==============================] - ETA: 0s - loss: 0.5409 - accuracy: 1.00 - ETA: 0s - loss: 0.4757 - accuracy: 1.00 - 0s 22ms/step - loss: 0.4757 - accuracy: 1.0000 - val_loss: 0.5515 - val_accuracy: 0.7292\n",
      "Epoch 10/50\n",
      "5/5 [==============================] - ETA: 0s - loss: 0.3777 - accuracy: 1.00 - ETA: 0s - loss: 0.4095 - accuracy: 1.00 - 0s 32ms/step - loss: 0.4095 - accuracy: 1.0000 - val_loss: 0.5306 - val_accuracy: 0.7708\n",
      "Epoch 11/50\n",
      "5/5 [==============================] - ETA: 0s - loss: 0.4204 - accuracy: 1.00 - ETA: 0s - loss: 0.3569 - accuracy: 1.00 - 0s 23ms/step - loss: 0.3569 - accuracy: 1.0000 - val_loss: 0.5212 - val_accuracy: 0.7708\n",
      "Epoch 12/50\n",
      "5/5 [==============================] - ETA: 0s - loss: 0.3415 - accuracy: 1.00 - ETA: 0s - loss: 0.3456 - accuracy: 1.00 - 0s 35ms/step - loss: 0.3305 - accuracy: 1.0000 - val_loss: 0.5204 - val_accuracy: 0.7292\n",
      "Epoch 13/50\n",
      "5/5 [==============================] - ETA: 0s - loss: 0.2747 - accuracy: 1.00 - ETA: 0s - loss: 0.2836 - accuracy: 1.00 - 0s 24ms/step - loss: 0.2836 - accuracy: 1.0000 - val_loss: 0.5277 - val_accuracy: 0.7292\n",
      "Epoch 14/50\n",
      "5/5 [==============================] - ETA: 0s - loss: 0.2723 - accuracy: 1.00 - ETA: 0s - loss: 0.2378 - accuracy: 1.00 - 0s 24ms/step - loss: 0.2378 - accuracy: 1.0000 - val_loss: 0.4826 - val_accuracy: 0.7708\n",
      "Epoch 15/50\n",
      "5/5 [==============================] - ETA: 0s - loss: 0.1987 - accuracy: 1.00 - ETA: 0s - loss: 0.2094 - accuracy: 1.00 - 0s 23ms/step - loss: 0.2094 - accuracy: 1.0000 - val_loss: 0.5025 - val_accuracy: 0.7500\n",
      "Epoch 16/50\n",
      "5/5 [==============================] - ETA: 0s - loss: 0.1771 - accuracy: 1.00 - ETA: 0s - loss: 0.1798 - accuracy: 1.00 - 0s 35ms/step - loss: 0.1798 - accuracy: 1.0000 - val_loss: 0.4713 - val_accuracy: 0.8125\n",
      "Epoch 17/50\n",
      "5/5 [==============================] - ETA: 0s - loss: 0.0977 - accuracy: 1.00 - ETA: 0s - loss: 0.1491 - accuracy: 1.00 - 0s 21ms/step - loss: 0.1491 - accuracy: 1.0000 - val_loss: 0.5302 - val_accuracy: 0.7500\n",
      "Epoch 18/50\n",
      "5/5 [==============================] - ETA: 0s - loss: 0.1736 - accuracy: 1.00 - ETA: 0s - loss: 0.1358 - accuracy: 1.00 - 0s 21ms/step - loss: 0.1358 - accuracy: 1.0000 - val_loss: 0.4540 - val_accuracy: 0.8125\n",
      "Epoch 19/50\n",
      "5/5 [==============================] - ETA: 0s - loss: 0.0955 - accuracy: 1.00 - ETA: 0s - loss: 0.1041 - accuracy: 1.00 - 0s 21ms/step - loss: 0.1041 - accuracy: 1.0000 - val_loss: 0.5463 - val_accuracy: 0.7292\n",
      "Epoch 20/50\n",
      "5/5 [==============================] - ETA: 0s - loss: 0.0724 - accuracy: 1.00 - ETA: 0s - loss: 0.0968 - accuracy: 1.00 - 0s 21ms/step - loss: 0.0968 - accuracy: 1.0000 - val_loss: 0.4858 - val_accuracy: 0.7917\n",
      "Epoch 21/50\n",
      "5/5 [==============================] - ETA: 0s - loss: 0.0733 - accuracy: 1.00 - ETA: 0s - loss: 0.0888 - accuracy: 1.00 - 0s 21ms/step - loss: 0.0888 - accuracy: 1.0000 - val_loss: 0.4510 - val_accuracy: 0.8125\n",
      "Epoch 22/50\n",
      "5/5 [==============================] - ETA: 0s - loss: 0.0533 - accuracy: 1.00 - ETA: 0s - loss: 0.0757 - accuracy: 1.00 - 0s 21ms/step - loss: 0.0757 - accuracy: 1.0000 - val_loss: 0.5122 - val_accuracy: 0.7917\n",
      "Epoch 23/50\n",
      "5/5 [==============================] - ETA: 0s - loss: 0.0337 - accuracy: 1.00 - ETA: 0s - loss: 0.0660 - accuracy: 1.00 - 0s 29ms/step - loss: 0.0660 - accuracy: 1.0000 - val_loss: 0.4873 - val_accuracy: 0.7917\n",
      "Epoch 24/50\n",
      "5/5 [==============================] - ETA: 0s - loss: 0.0493 - accuracy: 1.00 - ETA: 0s - loss: 0.0601 - accuracy: 1.00 - 0s 21ms/step - loss: 0.0601 - accuracy: 1.0000 - val_loss: 0.4343 - val_accuracy: 0.8125\n",
      "Epoch 25/50\n",
      "5/5 [==============================] - ETA: 0s - loss: 0.0574 - accuracy: 1.00 - ETA: 0s - loss: 0.0512 - accuracy: 1.00 - 0s 27ms/step - loss: 0.0512 - accuracy: 1.0000 - val_loss: 0.5502 - val_accuracy: 0.7708\n",
      "Epoch 26/50\n",
      "5/5 [==============================] - ETA: 0s - loss: 0.0681 - accuracy: 1.00 - 0s 20ms/step - loss: 0.0510 - accuracy: 1.0000 - val_loss: 0.4817 - val_accuracy: 0.7917\n",
      "Epoch 27/50\n",
      "5/5 [==============================] - ETA: 0s - loss: 0.0499 - accuracy: 1.00 - ETA: 0s - loss: 0.0418 - accuracy: 1.00 - 0s 22ms/step - loss: 0.0418 - accuracy: 1.0000 - val_loss: 0.5002 - val_accuracy: 0.8125\n",
      "Epoch 28/50\n",
      "5/5 [==============================] - ETA: 0s - loss: 0.0298 - accuracy: 1.00 - ETA: 0s - loss: 0.0387 - accuracy: 1.00 - 0s 21ms/step - loss: 0.0387 - accuracy: 1.0000 - val_loss: 0.4814 - val_accuracy: 0.8125\n",
      "Epoch 29/50\n",
      "5/5 [==============================] - ETA: 0s - loss: 0.0572 - accuracy: 1.00 - ETA: 0s - loss: 0.0387 - accuracy: 1.00 - 0s 21ms/step - loss: 0.0387 - accuracy: 1.0000 - val_loss: 0.4264 - val_accuracy: 0.8125\n",
      "Epoch 30/50\n",
      "5/5 [==============================] - ETA: 0s - loss: 0.0203 - accuracy: 1.00 - ETA: 0s - loss: 0.0322 - accuracy: 1.00 - 0s 21ms/step - loss: 0.0322 - accuracy: 1.0000 - val_loss: 0.5237 - val_accuracy: 0.8125\n",
      "Epoch 31/50\n",
      "5/5 [==============================] - ETA: 0s - loss: 0.0419 - accuracy: 1.00 - ETA: 0s - loss: 0.0304 - accuracy: 1.00 - 0s 23ms/step - loss: 0.0304 - accuracy: 1.0000 - val_loss: 0.5182 - val_accuracy: 0.8125\n",
      "Epoch 32/50\n",
      "5/5 [==============================] - ETA: 0s - loss: 0.0276 - accuracy: 1.00 - ETA: 0s - loss: 0.0282 - accuracy: 1.00 - 0s 24ms/step - loss: 0.0275 - accuracy: 1.0000 - val_loss: 0.4719 - val_accuracy: 0.8125\n",
      "Epoch 33/50\n",
      "5/5 [==============================] - ETA: 0s - loss: 0.0133 - accuracy: 1.00 - ETA: 0s - loss: 0.0252 - accuracy: 1.00 - 0s 33ms/step - loss: 0.0257 - accuracy: 1.0000 - val_loss: 0.4609 - val_accuracy: 0.8125\n",
      "Epoch 34/50\n",
      "5/5 [==============================] - ETA: 0s - loss: 0.0219 - accuracy: 1.00 - ETA: 0s - loss: 0.0261 - accuracy: 1.00 - 0s 21ms/step - loss: 0.0261 - accuracy: 1.0000 - val_loss: 0.5169 - val_accuracy: 0.8125\n",
      "Epoch 35/50\n",
      "5/5 [==============================] - ETA: 0s - loss: 0.0245 - accuracy: 1.00 - ETA: 0s - loss: 0.0230 - accuracy: 1.00 - 0s 21ms/step - loss: 0.0230 - accuracy: 1.0000 - val_loss: 0.4490 - val_accuracy: 0.8125\n",
      "Epoch 36/50\n",
      "5/5 [==============================] - ETA: 0s - loss: 0.0205 - accuracy: 1.00 - ETA: 0s - loss: 0.0213 - accuracy: 1.00 - 0s 21ms/step - loss: 0.0213 - accuracy: 1.0000 - val_loss: 0.4670 - val_accuracy: 0.8125\n",
      "Epoch 37/50\n",
      "5/5 [==============================] - ETA: 0s - loss: 0.0246 - accuracy: 1.00 - ETA: 0s - loss: 0.0234 - accuracy: 1.00 - ETA: 0s - loss: 0.0195 - accuracy: 1.00 - 0s 34ms/step - loss: 0.0195 - accuracy: 1.0000 - val_loss: 0.5165 - val_accuracy: 0.8125\n"
     ]
    },
    {
     "name": "stdout",
     "output_type": "stream",
     "text": [
      "Epoch 38/50\n",
      "5/5 [==============================] - ETA: 0s - loss: 0.0141 - accuracy: 1.00 - ETA: 0s - loss: 0.0187 - accuracy: 1.00 - 0s 22ms/step - loss: 0.0187 - accuracy: 1.0000 - val_loss: 0.4929 - val_accuracy: 0.8125\n",
      "Epoch 39/50\n",
      "5/5 [==============================] - ETA: 0s - loss: 0.0088 - accuracy: 1.00 - ETA: 0s - loss: 0.0154 - accuracy: 1.00 - 0s 27ms/step - loss: 0.0172 - accuracy: 1.0000 - val_loss: 0.4933 - val_accuracy: 0.8125\n",
      "Epoch 40/50\n",
      "5/5 [==============================] - ETA: 0s - loss: 0.0054 - accuracy: 1.00 - ETA: 0s - loss: 0.0165 - accuracy: 1.00 - 0s 21ms/step - loss: 0.0165 - accuracy: 1.0000 - val_loss: 0.4706 - val_accuracy: 0.8125\n",
      "Epoch 41/50\n",
      "5/5 [==============================] - ETA: 0s - loss: 0.0095 - accuracy: 1.00 - 0s 18ms/step - loss: 0.0156 - accuracy: 1.0000 - val_loss: 0.4934 - val_accuracy: 0.8125\n",
      "Epoch 42/50\n",
      "5/5 [==============================] - ETA: 0s - loss: 0.0123 - accuracy: 1.00 - 0s 18ms/step - loss: 0.0147 - accuracy: 1.0000 - val_loss: 0.5036 - val_accuracy: 0.8125\n",
      "Epoch 43/50\n",
      "5/5 [==============================] - ETA: 0s - loss: 0.0095 - accuracy: 1.00 - ETA: 0s - loss: 0.0146 - accuracy: 1.00 - 0s 22ms/step - loss: 0.0146 - accuracy: 1.0000 - val_loss: 0.5121 - val_accuracy: 0.8125\n",
      "Epoch 44/50\n",
      "5/5 [==============================] - ETA: 0s - loss: 0.0135 - accuracy: 1.00 - ETA: 0s - loss: 0.0141 - accuracy: 1.00 - 0s 29ms/step - loss: 0.0141 - accuracy: 1.0000 - val_loss: 0.4462 - val_accuracy: 0.8125\n",
      "Epoch 45/50\n",
      "5/5 [==============================] - ETA: 0s - loss: 0.0127 - accuracy: 1.00 - ETA: 0s - loss: 0.0134 - accuracy: 1.00 - 0s 21ms/step - loss: 0.0134 - accuracy: 1.0000 - val_loss: 0.5183 - val_accuracy: 0.8125\n",
      "Epoch 46/50\n",
      "5/5 [==============================] - ETA: 0s - loss: 0.0073 - accuracy: 1.00 - ETA: 0s - loss: 0.0065 - accuracy: 1.00 - 0s 29ms/step - loss: 0.0122 - accuracy: 1.0000 - val_loss: 0.5282 - val_accuracy: 0.8125\n",
      "Epoch 47/50\n",
      "5/5 [==============================] - ETA: 0s - loss: 0.0088 - accuracy: 1.00 - ETA: 0s - loss: 0.0114 - accuracy: 1.00 - 0s 21ms/step - loss: 0.0114 - accuracy: 1.0000 - val_loss: 0.4772 - val_accuracy: 0.8125\n",
      "Epoch 48/50\n",
      "5/5 [==============================] - ETA: 0s - loss: 0.0143 - accuracy: 1.00 - ETA: 0s - loss: 0.0111 - accuracy: 1.00 - 0s 22ms/step - loss: 0.0111 - accuracy: 1.0000 - val_loss: 0.4758 - val_accuracy: 0.8125\n",
      "Epoch 49/50\n",
      "5/5 [==============================] - ETA: 0s - loss: 0.0073 - accuracy: 1.00 - ETA: 0s - loss: 0.0108 - accuracy: 1.00 - 0s 23ms/step - loss: 0.0108 - accuracy: 1.0000 - val_loss: 0.5142 - val_accuracy: 0.8125\n",
      "Epoch 50/50\n",
      "5/5 [==============================] - ETA: 0s - loss: 0.0061 - accuracy: 1.00 - ETA: 0s - loss: 0.0100 - accuracy: 1.00 - 0s 21ms/step - loss: 0.0100 - accuracy: 1.0000 - val_loss: 0.4840 - val_accuracy: 0.8125\n"
     ]
    }
   ],
   "source": [
    "tf.random.set_seed(7)\n",
    "\n",
    "train_image_inflate = []    \n",
    "for i in range(len(train_image)):\n",
    "    train_image_inflate.append(train_image[i].reshape(64,64,1))\n",
    "train_image_inflate = np.array(train_image_inflate).reshape(50,64,64,1)\n",
    "\n",
    "model = tf.keras.models.Sequential()\n",
    "\n",
    "# Da'model\n",
    "model.add(Conv2D(10, 3, activation='relu', input_shape=(64,64,1), padding='same'))\n",
    "model.add(MaxPooling2D(2,2))\n",
    "\n",
    "model.add(k.layers.Flatten())\n",
    "model.add(Dense(units=1, activation='sigmoid'))\n",
    "\n",
    "# Compiler layer\n",
    "model.compile(optimizer='adam', \n",
    "              loss='binary_crossentropy', \n",
    "              metrics=['accuracy'])\n",
    "\n",
    "# Fitting Da'model\n",
    "results1 = model.fit(train_image_inflate, train_label, \n",
    "           validation_data=(val_image, val_label),\n",
    "           class_weight=train_weights,\n",
    "           epochs=50, \n",
    "           steps_per_epoch=5)\n"
   ]
  },
  {
   "cell_type": "code",
   "execution_count": 376,
   "metadata": {},
   "outputs": [
    {
     "data": {
      "image/png": "[encoded data removed]",
      "text/plain": [
       "<Figure size 720x504 with 2 Axes>"
      ]
     },
     "metadata": {
      "needs_background": "light"
     },
     "output_type": "display_data"
    }
   ],
   "source": [
    "plot_results(results1)"
   ]
  },
  {
   "cell_type": "code",
   "execution_count": 402,
   "metadata": {},
   "outputs": [
    {
     "name": "stdout",
     "output_type": "stream",
     "text": [
      "2/2 [==============================] - ETA: 0s - loss: 0.0071 - accuracy: 1.00 - 0s 8ms/step - loss: 0.0068 - accuracy: 1.0000\n"
     ]
    },
    {
     "data": {
      "text/plain": [
       "[0.006816144101321697, 1.0]"
      ]
     },
     "execution_count": 402,
     "metadata": {},
     "output_type": "execute_result"
    }
   ],
   "source": [
    "model.evaluate(train_image, train_label)"
   ]
  },
  {
   "cell_type": "code",
   "execution_count": 403,
   "metadata": {},
   "outputs": [
    {
     "name": "stdout",
     "output_type": "stream",
     "text": [
      "2/2 [==============================] - ETA: 0s - loss: 0.4403 - accuracy: 0.81 - 0s 7ms/step - loss: 0.4840 - accuracy: 0.8125\n"
     ]
    },
    {
     "data": {
      "text/plain": [
       "[0.4840472638607025, 0.8125]"
      ]
     },
     "execution_count": 403,
     "metadata": {},
     "output_type": "execute_result"
    }
   ],
   "source": [
    "model.evaluate(val_image, val_label)"
   ]
  },
  {
   "cell_type": "code",
   "execution_count": 404,
   "metadata": {},
   "outputs": [
    {
     "name": "stdout",
     "output_type": "stream",
     "text": [
      "2/2 [==============================] - ETA: 0s - loss: 0.8655 - accuracy: 0.65 - 0s 7ms/step - loss: 0.6697 - accuracy: 0.7000\n"
     ]
    },
    {
     "data": {
      "text/plain": [
       "[0.6697333455085754, 0.699999988079071]"
      ]
     },
     "execution_count": 404,
     "metadata": {},
     "output_type": "execute_result"
    }
   ],
   "source": [
    "model.evaluate(test_image, test_label)"
   ]
  },
  {
   "cell_type": "code",
   "execution_count": 405,
   "metadata": {},
   "outputs": [],
   "source": [
    "y_val_hat = model.predict_classes(val_image)"
   ]
  },
  {
   "cell_type": "code",
   "execution_count": 443,
   "metadata": {},
   "outputs": [
    {
     "data": {
      "image/png": "[encoded data removed]",
      "text/plain": [
       "<Figure size 432x288 with 1 Axes>"
      ]
     },
     "metadata": {},
     "output_type": "display_data"
    }
   ],
   "source": [
    "sns.heatmap(confusion_matrix(val_label, y_val_hat), annot=True, fmt='d',cmap='Blues', cbar=False,\n",
    "           xticklabels=False, yticklabels=False,)\n",
    "\n",
    "\n",
    "\n",
    "# plt.savefig('FSMconfusion')"
   ]
  },
  {
   "cell_type": "markdown",
   "metadata": {},
   "source": [
    "### Results\n",
    "The model functions! The accuracy score is in accurate for the first model where the accuracy is showing between 90 and 100 percent accuracy and a very low loss the cross validation showed an accuracy of 62 percent and a loss over 1.02 which shows the model need regularization and possibly some new layers."
   ]
  },
  {
   "cell_type": "markdown",
   "metadata": {},
   "source": [
    "### Second Model: adding layers"
   ]
  },
  {
   "cell_type": "code",
   "execution_count": 445,
   "metadata": {
    "scrolled": true
   },
   "outputs": [
    {
     "name": "stdout",
     "output_type": "stream",
     "text": [
      "Epoch 1/30\n",
      "5/5 [==============================] - ETA: 0s - loss: 0.3268 - accuracy: 0.50 - ETA: 0s - loss: 0.2626 - accuracy: 0.26 - ETA: 0s - loss: 0.2548 - accuracy: 0.24 - 1s 102ms/step - loss: 0.2548 - accuracy: 0.2400 - val_loss: 0.1736 - val_accuracy: 0.5000\n",
      "Epoch 2/30\n",
      "5/5 [==============================] - ETA: 0s - loss: 0.2705 - accuracy: 0.30 - ETA: 0s - loss: 0.2518 - accuracy: 0.23 - ETA: 0s - loss: 0.2537 - accuracy: 0.24 - 0s 50ms/step - loss: 0.2537 - accuracy: 0.2400 - val_loss: 0.1734 - val_accuracy: 0.5000\n",
      "Epoch 3/30\n",
      "5/5 [==============================] - ETA: 0s - loss: 0.2711 - accuracy: 0.30 - ETA: 0s - loss: 0.2612 - accuracy: 0.26 - ETA: 0s - loss: 0.2532 - accuracy: 0.24 - 0s 50ms/step - loss: 0.2532 - accuracy: 0.2400 - val_loss: 0.1732 - val_accuracy: 0.5000\n",
      "Epoch 4/30\n",
      "5/5 [==============================] - ETA: 0s - loss: 0.2409 - accuracy: 0.20 - ETA: 0s - loss: 0.2306 - accuracy: 0.16 - ETA: 0s - loss: 0.2531 - accuracy: 0.24 - 0s 51ms/step - loss: 0.2531 - accuracy: 0.2400 - val_loss: 0.1731 - val_accuracy: 0.5000\n",
      "Epoch 5/30\n",
      "5/5 [==============================] - ETA: 0s - loss: 0.2711 - accuracy: 0.30 - ETA: 0s - loss: 0.2606 - accuracy: 0.26 - ETA: 0s - loss: 0.2523 - accuracy: 0.24 - 0s 47ms/step - loss: 0.2523 - accuracy: 0.2400 - val_loss: 0.1729 - val_accuracy: 0.5000\n",
      "Epoch 6/30\n",
      "5/5 [==============================] - ETA: 0s - loss: 0.2082 - accuracy: 0.10 - ETA: 0s - loss: 0.2497 - accuracy: 0.23 - ETA: 0s - loss: 0.2517 - accuracy: 0.26 - 0s 50ms/step - loss: 0.2517 - accuracy: 0.2600 - val_loss: 0.1726 - val_accuracy: 0.5000\n",
      "Epoch 7/30\n",
      "5/5 [==============================] - ETA: 0s - loss: 0.2380 - accuracy: 0.30 - ETA: 0s - loss: 0.2380 - accuracy: 0.40 - ETA: 0s - loss: 0.2506 - accuracy: 0.60 - 0s 50ms/step - loss: 0.2506 - accuracy: 0.6000 - val_loss: 0.1720 - val_accuracy: 0.7708\n",
      "Epoch 8/30\n",
      "5/5 [==============================] - ETA: 0s - loss: 0.2684 - accuracy: 1.00 - ETA: 0s - loss: 0.2464 - accuracy: 0.86 - ETA: 0s - loss: 0.2516 - accuracy: 0.85 - ETA: 0s - loss: 0.2480 - accuracy: 0.88 - 0s 55ms/step - loss: 0.2480 - accuracy: 0.8800 - val_loss: 0.1707 - val_accuracy: 0.8333\n",
      "Epoch 9/30\n",
      "5/5 [==============================] - ETA: 0s - loss: 0.2324 - accuracy: 0.80 - ETA: 0s - loss: 0.2465 - accuracy: 0.90 - ETA: 0s - loss: 0.2308 - accuracy: 0.92 - 0s 52ms/step - loss: 0.2435 - accuracy: 0.9000 - val_loss: 0.1679 - val_accuracy: 0.7083\n",
      "Epoch 10/30\n",
      "5/5 [==============================] - ETA: 0s - loss: 0.2214 - accuracy: 1.00 - ETA: 0s - loss: 0.2299 - accuracy: 0.93 - ETA: 0s - loss: 0.2291 - accuracy: 0.88 - 0s 49ms/step - loss: 0.2291 - accuracy: 0.8800 - val_loss: 0.1608 - val_accuracy: 0.6875\n",
      "Epoch 11/30\n",
      "5/5 [==============================] - ETA: 0s - loss: 0.2282 - accuracy: 0.80 - ETA: 0s - loss: 0.2000 - accuracy: 0.83 - ETA: 0s - loss: 0.2173 - accuracy: 0.82 - 0s 50ms/step - loss: 0.2173 - accuracy: 0.8200 - val_loss: 0.1521 - val_accuracy: 0.7500\n",
      "Epoch 12/30\n",
      "5/5 [==============================] - ETA: 0s - loss: 0.2322 - accuracy: 0.90 - ETA: 0s - loss: 0.2430 - accuracy: 0.50 - ETA: 0s - loss: 0.2365 - accuracy: 0.45 - 0s 57ms/step - loss: 0.2236 - accuracy: 0.5400 - val_loss: 0.1599 - val_accuracy: 0.5417\n",
      "Epoch 13/30\n",
      "5/5 [==============================] - ETA: 0s - loss: 0.1818 - accuracy: 0.90 - ETA: 0s - loss: 0.2135 - accuracy: 0.80 - ETA: 0s - loss: 0.2017 - accuracy: 0.86 - 0s 50ms/step - loss: 0.2017 - accuracy: 0.8600 - val_loss: 0.1488 - val_accuracy: 0.7292\n",
      "Epoch 14/30\n",
      "5/5 [==============================] - ETA: 0s - loss: 0.1758 - accuracy: 0.90 - ETA: 0s - loss: 0.1870 - accuracy: 0.70 - ETA: 0s - loss: 0.1904 - accuracy: 0.76 - 0s 51ms/step - loss: 0.1904 - accuracy: 0.7600 - val_loss: 0.1480 - val_accuracy: 0.7500\n",
      "Epoch 15/30\n",
      "5/5 [==============================] - ETA: 0s - loss: 0.1333 - accuracy: 1.00 - ETA: 0s - loss: 0.1836 - accuracy: 1.00 - ETA: 0s - loss: 0.1681 - accuracy: 1.00 - 0s 57ms/step - loss: 0.1681 - accuracy: 1.0000 - val_loss: 0.1388 - val_accuracy: 0.8333\n",
      "Epoch 16/30\n",
      "5/5 [==============================] - ETA: 0s - loss: 0.1768 - accuracy: 1.00 - ETA: 0s - loss: 0.1864 - accuracy: 0.80 - ETA: 0s - loss: 0.1715 - accuracy: 0.83 - ETA: 0s - loss: 0.1636 - accuracy: 0.85 - 0s 57ms/step - loss: 0.1559 - accuracy: 0.8600 - val_loss: 0.1393 - val_accuracy: 0.7500\n",
      "Epoch 17/30\n",
      "5/5 [==============================] - ETA: 0s - loss: 0.1075 - accuracy: 1.00 - ETA: 0s - loss: 0.1659 - accuracy: 0.90 - ETA: 0s - loss: 0.1552 - accuracy: 0.94 - 0s 46ms/step - loss: 0.1552 - accuracy: 0.9400 - val_loss: 0.1376 - val_accuracy: 0.7292\n",
      "Epoch 18/30\n",
      "5/5 [==============================] - ETA: 0s - loss: 0.1661 - accuracy: 0.90 - ETA: 0s - loss: 0.1557 - accuracy: 0.93 - ETA: 0s - loss: 0.1354 - accuracy: 0.96 - 0s 66ms/step - loss: 0.1354 - accuracy: 0.9600 - val_loss: 0.1682 - val_accuracy: 0.5625\n",
      "Epoch 19/30\n",
      "5/5 [==============================] - ETA: 0s - loss: 0.1834 - accuracy: 0.90 - ETA: 0s - loss: 0.1632 - accuracy: 0.95 - ETA: 0s - loss: 0.1496 - accuracy: 0.96 - ETA: 0s - loss: 0.1410 - accuracy: 0.95 - 0s 57ms/step - loss: 0.1460 - accuracy: 0.9000 - val_loss: 0.1311 - val_accuracy: 0.7500\n",
      "Epoch 20/30\n",
      "5/5 [==============================] - ETA: 0s - loss: 0.1626 - accuracy: 0.60 - ETA: 0s - loss: 0.1334 - accuracy: 0.86 - ETA: 0s - loss: 0.1321 - accuracy: 0.92 - 0s 50ms/step - loss: 0.1321 - accuracy: 0.9200 - val_loss: 0.1401 - val_accuracy: 0.7292\n",
      "Epoch 21/30\n",
      "5/5 [==============================] - ETA: 0s - loss: 0.1618 - accuracy: 1.00 - ETA: 0s - loss: 0.1261 - accuracy: 1.00 - ETA: 0s - loss: 0.1278 - accuracy: 0.94 - 0s 54ms/step - loss: 0.1278 - accuracy: 0.9400 - val_loss: 0.1262 - val_accuracy: 0.7917\n",
      "Epoch 22/30\n",
      "5/5 [==============================] - ETA: 0s - loss: 0.1201 - accuracy: 1.00 - ETA: 0s - loss: 0.1110 - accuracy: 1.00 - ETA: 0s - loss: 0.1122 - accuracy: 1.00 - 0s 50ms/step - loss: 0.1122 - accuracy: 1.0000 - val_loss: 0.1431 - val_accuracy: 0.7292\n",
      "Epoch 23/30\n",
      "5/5 [==============================] - ETA: 0s - loss: 0.0898 - accuracy: 1.00 - ETA: 0s - loss: 0.1097 - accuracy: 1.00 - ETA: 0s - loss: 0.1117 - accuracy: 1.00 - 0s 51ms/step - loss: 0.1117 - accuracy: 1.0000 - val_loss: 0.1242 - val_accuracy: 0.8333\n",
      "Epoch 24/30\n",
      "5/5 [==============================] - ETA: 0s - loss: 0.1122 - accuracy: 1.00 - ETA: 0s - loss: 0.1062 - accuracy: 1.00 - ETA: 0s - loss: 0.1100 - accuracy: 0.98 - 0s 59ms/step - loss: 0.1100 - accuracy: 0.9800 - val_loss: 0.1212 - val_accuracy: 0.8333\n",
      "Epoch 25/30\n",
      "5/5 [==============================] - ETA: 0s - loss: 0.1269 - accuracy: 1.00 - ETA: 0s - loss: 0.1046 - accuracy: 1.00 - ETA: 0s - loss: 0.1064 - accuracy: 1.00 - 0s 55ms/step - loss: 0.1064 - accuracy: 1.0000 - val_loss: 0.1413 - val_accuracy: 0.7292\n",
      "Epoch 26/30\n",
      "5/5 [==============================] - ETA: 0s - loss: 0.0996 - accuracy: 1.00 - ETA: 0s - loss: 0.1087 - accuracy: 1.00 - ETA: 0s - loss: 0.1034 - accuracy: 1.00 - 0s 47ms/step - loss: 0.1034 - accuracy: 1.0000 - val_loss: 0.1184 - val_accuracy: 0.8125\n",
      "Epoch 27/30\n",
      "5/5 [==============================] - ETA: 0s - loss: 0.1063 - accuracy: 1.00 - ETA: 0s - loss: 0.0987 - accuracy: 1.00 - ETA: 0s - loss: 0.0989 - accuracy: 1.00 - 0s 49ms/step - loss: 0.0989 - accuracy: 1.0000 - val_loss: 0.1346 - val_accuracy: 0.7292\n",
      "Epoch 28/30\n",
      "5/5 [==============================] - ETA: 0s - loss: 0.0920 - accuracy: 1.00 - ETA: 0s - loss: 0.0895 - accuracy: 1.00 - ETA: 0s - loss: 0.0982 - accuracy: 1.00 - 0s 51ms/step - loss: 0.0982 - accuracy: 1.0000 - val_loss: 0.1298 - val_accuracy: 0.7917\n",
      "Epoch 29/30\n",
      "5/5 [==============================] - ETA: 0s - loss: 0.1036 - accuracy: 1.00 - ETA: 0s - loss: 0.0907 - accuracy: 1.00 - ETA: 0s - loss: 0.0957 - accuracy: 1.00 - 0s 48ms/step - loss: 0.0957 - accuracy: 1.0000 - val_loss: 0.1167 - val_accuracy: 0.8333\n",
      "Epoch 30/30\n",
      "5/5 [==============================] - ETA: 0s - loss: 0.0902 - accuracy: 1.00 - ETA: 0s - loss: 0.0941 - accuracy: 1.00 - ETA: 0s - loss: 0.0942 - accuracy: 1.00 - 0s 49ms/step - loss: 0.0942 - accuracy: 1.0000 - val_loss: 0.1235 - val_accuracy: 0.7917\n"
     ]
    }
   ],
   "source": [
    "tf.random.set_seed(7)\n",
    "\n",
    "train_image_inflate = []    \n",
    "for i in range(len(train_image)):\n",
    "    train_image_inflate.append(train_image[i].reshape(64,64,1))\n",
    "train_image_inflate = np.array(train_image_inflate).reshape(50,64,64,1)\n",
    "\n",
    "model2 = tf.keras.models.Sequential()\n",
    "\n",
    "# Da'model\n",
    "model2.add(Conv2D(10, 3, activation='relu', input_shape=(64,64,1), padding='same'))\n",
    "model2.add(MaxPooling2D(2,2))\n",
    "\n",
    "# Added newbie layers for this iteration; hope accuracy improves!\n",
    "model2.add(Conv2D(15, 3, activation='relu', input_shape=(64,64,1), padding='same'))\n",
    "model2.add(MaxPooling2D(2,2))\n",
    "\n",
    "model2.add(Conv2D(20, 3, activation='relu', input_shape=(64,64,1), padding='same'))\n",
    "model2.add(MaxPooling2D(2,2))\n",
    "\n",
    "model2.add(Conv2D(25, 3, activation='relu', input_shape=(64,64,1), padding='same'))\n",
    "model2.add(MaxPooling2D(2,2))\n",
    "\n",
    "model2.add(Conv2D(30, 3, activation='relu', input_shape=(64,64,1), padding='same'))\n",
    "model2.add(MaxPooling2D(2,2))\n",
    "\n",
    "model2.add(k.layers.Flatten())\n",
    "model2.add(Dense(units=25, activation='softmax', input_shape=(64,64,1)))\n",
    "model2.add(Dense(units=1, activation='sigmoid'))\n",
    "\n",
    "# Compiler layer\n",
    "model2.compile(optimizer='adam', \n",
    "              loss=BinaryFocalLoss(gamma=2), \n",
    "              metrics=['accuracy'])\n",
    "\n",
    "# Fitting Da'model\n",
    "results2 = model2.fit(train_image, train_label, \n",
    "           validation_data=(val_image, val_label), \n",
    "           epochs=30,\n",
    "           class_weight=train_weights,\n",
    "           batch_size=10) "
   ]
  },
  {
   "cell_type": "code",
   "execution_count": 446,
   "metadata": {},
   "outputs": [
    {
     "data": {
      "image/png": "[encoded data removed]",
      "text/plain": [
       "<Figure size 720x504 with 2 Axes>"
      ]
     },
     "metadata": {
      "needs_background": "light"
     },
     "output_type": "display_data"
    }
   ],
   "source": [
    "plot_results(results2)"
   ]
  },
  {
   "cell_type": "code",
   "execution_count": 447,
   "metadata": {},
   "outputs": [
    {
     "name": "stdout",
     "output_type": "stream",
     "text": [
      "2/2 [==============================] - ETA: 0s - loss: 0.1198 - accuracy: 0.78 - 0s 11ms/step - loss: 0.1235 - accuracy: 0.7917\n"
     ]
    },
    {
     "data": {
      "text/plain": [
       "[0.1235276460647583, 0.7916666865348816]"
      ]
     },
     "execution_count": 447,
     "metadata": {},
     "output_type": "execute_result"
    }
   ],
   "source": [
    "model2.evaluate(val_image, val_label)"
   ]
  },
  {
   "cell_type": "code",
   "execution_count": 448,
   "metadata": {},
   "outputs": [
    {
     "name": "stdout",
     "output_type": "stream",
     "text": [
      "2/2 [==============================] - ETA: 0s - loss: 0.1385 - accuracy: 0.75 - 0s 9ms/step - loss: 0.1256 - accuracy: 0.8000\n"
     ]
    },
    {
     "data": {
      "text/plain": [
       "[0.12560254335403442, 0.800000011920929]"
      ]
     },
     "execution_count": 448,
     "metadata": {},
     "output_type": "execute_result"
    }
   ],
   "source": [
    "model2.evaluate(test_image, test_label)"
   ]
  },
  {
   "cell_type": "markdown",
   "metadata": {},
   "source": [
    "### Results\n",
    "Adding two convolutional layers and one dense layer had no meaningful results.  Adding softmax activation on the first dense layer made the accuracy results more realistic in comparison to the evaluation results with the Val data.  Evaluating the model with the test data shows some good results but it's likely still due to overfitting."
   ]
  },
  {
   "cell_type": "code",
   "execution_count": null,
   "metadata": {},
   "outputs": [],
   "source": []
  },
  {
   "cell_type": "markdown",
   "metadata": {},
   "source": [
    "## Third model: adding constraints"
   ]
  },
  {
   "cell_type": "code",
   "execution_count": 560,
   "metadata": {
    "scrolled": true
   },
   "outputs": [
    {
     "name": "stdout",
     "output_type": "stream",
     "text": [
      "Epoch 1/100\n",
      "5/5 [==============================] - ETA: 0s - loss: 0.3754 - accuracy: 0.50 - ETA: 0s - loss: 0.6109 - accuracy: 0.30 - ETA: 0s - loss: 0.5375 - accuracy: 0.26 - ETA: 0s - loss: 0.4711 - accuracy: 0.25 - ETA: 0s - loss: 0.4287 - accuracy: 0.36 - 2s 334ms/step - loss: 0.4287 - accuracy: 0.3600 - val_loss: 0.2024 - val_accuracy: 0.5000\n",
      "Epoch 2/100\n",
      "5/5 [==============================] - ETA: 0s - loss: 0.3157 - accuracy: 0.70 - ETA: 0s - loss: 0.2864 - accuracy: 0.75 - ETA: 0s - loss: 0.2792 - accuracy: 0.76 - ETA: 0s - loss: 0.2756 - accuracy: 0.77 - ETA: 0s - loss: 0.2769 - accuracy: 0.76 - 1s 231ms/step - loss: 0.2769 - accuracy: 0.7600 - val_loss: 0.2036 - val_accuracy: 0.5000\n",
      "Epoch 3/100\n",
      "5/5 [==============================] - ETA: 0s - loss: 0.2754 - accuracy: 0.30 - ETA: 0s - loss: 0.2712 - accuracy: 0.25 - ETA: 0s - loss: 0.2778 - accuracy: 0.26 - ETA: 0s - loss: 0.2645 - accuracy: 0.25 - ETA: 0s - loss: 0.2691 - accuracy: 0.34 - 1s 238ms/step - loss: 0.2691 - accuracy: 0.3400 - val_loss: 0.1911 - val_accuracy: 0.5208\n",
      "Epoch 4/100\n",
      "5/5 [==============================] - ETA: 0s - loss: 0.2340 - accuracy: 0.80 - ETA: 0s - loss: 0.2060 - accuracy: 0.85 - ETA: 0s - loss: 0.2171 - accuracy: 0.83 - ETA: 0s - loss: 0.2629 - accuracy: 0.77 - ETA: 0s - loss: 0.2676 - accuracy: 0.76 - 1s 243ms/step - loss: 0.2676 - accuracy: 0.7600 - val_loss: 0.1811 - val_accuracy: 0.6458\n",
      "Epoch 5/100\n",
      "5/5 [==============================] - ETA: 0s - loss: 0.2465 - accuracy: 1.00 - ETA: 0s - loss: 0.2440 - accuracy: 0.80 - ETA: 0s - loss: 0.2460 - accuracy: 0.60 - ETA: 0s - loss: 0.2472 - accuracy: 0.50 - ETA: 0s - loss: 0.2488 - accuracy: 0.44 - 1s 238ms/step - loss: 0.2488 - accuracy: 0.4400 - val_loss: 0.1773 - val_accuracy: 0.6042\n",
      "Epoch 6/100\n",
      "5/5 [==============================] - ETA: 0s - loss: 0.2257 - accuracy: 0.30 - ETA: 0s - loss: 0.2316 - accuracy: 0.55 - ETA: 0s - loss: 0.2292 - accuracy: 0.70 - ETA: 0s - loss: 0.2366 - accuracy: 0.75 - ETA: 0s - loss: 0.2245 - accuracy: 0.80 - 1s 228ms/step - loss: 0.2245 - accuracy: 0.8000 - val_loss: 0.1749 - val_accuracy: 0.5833\n",
      "Epoch 7/100\n",
      "5/5 [==============================] - ETA: 0s - loss: 0.1828 - accuracy: 1.00 - ETA: 0s - loss: 0.1902 - accuracy: 0.95 - ETA: 0s - loss: 0.1921 - accuracy: 0.93 - ETA: 0s - loss: 0.1895 - accuracy: 0.92 - ETA: 0s - loss: 0.2028 - accuracy: 0.92 - 1s 228ms/step - loss: 0.2028 - accuracy: 0.9200 - val_loss: 0.1708 - val_accuracy: 0.6250\n",
      "Epoch 8/100\n",
      "5/5 [==============================] - ETA: 0s - loss: 0.2115 - accuracy: 1.00 - ETA: 0s - loss: 0.1994 - accuracy: 1.00 - ETA: 0s - loss: 0.1927 - accuracy: 0.96 - ETA: 0s - loss: 0.1914 - accuracy: 0.95 - ETA: 0s - loss: 0.1838 - accuracy: 0.96 - 1s 229ms/step - loss: 0.1838 - accuracy: 0.9600 - val_loss: 0.1534 - val_accuracy: 0.7708\n",
      "Epoch 9/100\n",
      "5/5 [==============================] - ETA: 0s - loss: 0.1690 - accuracy: 0.90 - ETA: 0s - loss: 0.1648 - accuracy: 0.90 - ETA: 0s - loss: 0.1581 - accuracy: 0.93 - ETA: 0s - loss: 0.1594 - accuracy: 0.90 - ETA: 0s - loss: 0.1612 - accuracy: 0.92 - 1s 243ms/step - loss: 0.1612 - accuracy: 0.9200 - val_loss: 0.1702 - val_accuracy: 0.6667\n",
      "Epoch 10/100\n",
      "5/5 [==============================] - ETA: 0s - loss: 0.1347 - accuracy: 1.00 - ETA: 0s - loss: 0.1339 - accuracy: 1.00 - ETA: 0s - loss: 0.1349 - accuracy: 1.00 - ETA: 0s - loss: 0.1369 - accuracy: 1.00 - ETA: 0s - loss: 0.1343 - accuracy: 1.00 - 1s 252ms/step - loss: 0.1343 - accuracy: 1.0000 - val_loss: 0.1524 - val_accuracy: 0.7708\n",
      "Epoch 11/100\n",
      "5/5 [==============================] - ETA: 0s - loss: 0.1227 - accuracy: 1.00 - ETA: 0s - loss: 0.1326 - accuracy: 0.95 - ETA: 0s - loss: 0.1256 - accuracy: 0.93 - ETA: 0s - loss: 0.1189 - accuracy: 0.95 - ETA: 0s - loss: 0.1143 - accuracy: 0.96 - 1s 253ms/step - loss: 0.1143 - accuracy: 0.9600 - val_loss: 0.1687 - val_accuracy: 0.7708\n",
      "Epoch 12/100\n",
      "5/5 [==============================] - ETA: 0s - loss: 0.0970 - accuracy: 1.00 - ETA: 0s - loss: 0.1026 - accuracy: 1.00 - ETA: 0s - loss: 0.0966 - accuracy: 0.96 - ETA: 0s - loss: 0.1054 - accuracy: 0.90 - ETA: 0s - loss: 0.1032 - accuracy: 0.90 - 1s 229ms/step - loss: 0.1032 - accuracy: 0.9000 - val_loss: 0.1833 - val_accuracy: 0.7708\n",
      "Epoch 13/100\n",
      "5/5 [==============================] - ETA: 0s - loss: 0.0639 - accuracy: 1.00 - ETA: 0s - loss: 0.0728 - accuracy: 1.00 - ETA: 0s - loss: 0.0801 - accuracy: 1.00 - ETA: 0s - loss: 0.0869 - accuracy: 1.00 - ETA: 0s - loss: 0.0886 - accuracy: 1.00 - 1s 239ms/step - loss: 0.0886 - accuracy: 1.0000 - val_loss: 0.1509 - val_accuracy: 0.8125\n",
      "Epoch 14/100\n",
      "5/5 [==============================] - ETA: 0s - loss: 0.0844 - accuracy: 0.90 - ETA: 0s - loss: 0.0873 - accuracy: 0.90 - ETA: 0s - loss: 0.0839 - accuracy: 0.90 - ETA: 0s - loss: 0.0805 - accuracy: 0.92 - ETA: 0s - loss: 0.0806 - accuracy: 0.94 - 1s 237ms/step - loss: 0.0806 - accuracy: 0.9400 - val_loss: 0.1988 - val_accuracy: 0.7708\n",
      "Epoch 15/100\n",
      "5/5 [==============================] - ETA: 0s - loss: 0.0687 - accuracy: 0.90 - ETA: 0s - loss: 0.0577 - accuracy: 0.95 - ETA: 0s - loss: 0.0878 - accuracy: 0.96 - ETA: 0s - loss: 0.0795 - accuracy: 0.97 - ETA: 0s - loss: 0.0775 - accuracy: 0.96 - 1s 213ms/step - loss: 0.0775 - accuracy: 0.9600 - val_loss: 0.1231 - val_accuracy: 0.8750\n",
      "Epoch 16/100\n",
      "5/5 [==============================] - ETA: 0s - loss: 0.0505 - accuracy: 1.00 - ETA: 0s - loss: 0.0901 - accuracy: 0.90 - ETA: 0s - loss: 0.0825 - accuracy: 0.93 - ETA: 0s - loss: 0.0715 - accuracy: 0.95 - ETA: 0s - loss: 0.0703 - accuracy: 0.96 - 1s 219ms/step - loss: 0.0703 - accuracy: 0.9600 - val_loss: 0.2286 - val_accuracy: 0.7708\n",
      "Epoch 17/100\n",
      "5/5 [==============================] - ETA: 0s - loss: 0.0519 - accuracy: 1.00 - ETA: 0s - loss: 0.0797 - accuracy: 0.95 - ETA: 0s - loss: 0.0795 - accuracy: 0.96 - ETA: 0s - loss: 0.0768 - accuracy: 0.97 - ETA: 0s - loss: 0.0722 - accuracy: 0.98 - 1s 197ms/step - loss: 0.0722 - accuracy: 0.9800 - val_loss: 0.1307 - val_accuracy: 0.8125\n",
      "Epoch 18/100\n",
      "5/5 [==============================] - ETA: 0s - loss: 0.0608 - accuracy: 1.00 - ETA: 0s - loss: 0.0604 - accuracy: 1.00 - ETA: 0s - loss: 0.0525 - accuracy: 1.00 - ETA: 0s - loss: 0.0605 - accuracy: 0.97 - ETA: 0s - loss: 0.0606 - accuracy: 0.98 - 1s 209ms/step - loss: 0.0606 - accuracy: 0.9800 - val_loss: 0.1175 - val_accuracy: 0.8333\n",
      "Epoch 19/100\n",
      "5/5 [==============================] - ETA: 0s - loss: 0.0461 - accuracy: 1.00 - ETA: 0s - loss: 0.0560 - accuracy: 0.95 - ETA: 0s - loss: 0.0475 - accuracy: 0.96 - ETA: 0s - loss: 0.0485 - accuracy: 0.97 - ETA: 0s - loss: 0.0505 - accuracy: 0.98 - 1s 200ms/step - loss: 0.0505 - accuracy: 0.9800 - val_loss: 0.1852 - val_accuracy: 0.8125\n",
      "Epoch 20/100\n",
      "5/5 [==============================] - ETA: 0s - loss: 0.0500 - accuracy: 1.00 - ETA: 0s - loss: 0.0560 - accuracy: 1.00 - ETA: 0s - loss: 0.0526 - accuracy: 1.00 - ETA: 0s - loss: 0.0480 - accuracy: 1.00 - ETA: 0s - loss: 0.0481 - accuracy: 1.00 - 1s 217ms/step - loss: 0.0481 - accuracy: 1.0000 - val_loss: 0.1225 - val_accuracy: 0.8125\n",
      "Epoch 21/100\n",
      "5/5 [==============================] - ETA: 0s - loss: 0.0363 - accuracy: 1.00 - ETA: 0s - loss: 0.0344 - accuracy: 1.00 - ETA: 0s - loss: 0.0403 - accuracy: 1.00 - ETA: 0s - loss: 0.0442 - accuracy: 1.00 - ETA: 0s - loss: 0.0499 - accuracy: 0.98 - 1s 212ms/step - loss: 0.0499 - accuracy: 0.9800 - val_loss: 0.1125 - val_accuracy: 0.8542\n",
      "Epoch 22/100\n",
      "5/5 [==============================] - ETA: 0s - loss: 0.0287 - accuracy: 1.00 - ETA: 0s - loss: 0.0334 - accuracy: 1.00 - ETA: 0s - loss: 0.0371 - accuracy: 1.00 - ETA: 0s - loss: 0.0441 - accuracy: 1.00 - ETA: 0s - loss: 0.0424 - accuracy: 1.00 - 1s 192ms/step - loss: 0.0424 - accuracy: 1.0000 - val_loss: 0.1670 - val_accuracy: 0.8333\n",
      "Epoch 23/100\n",
      "5/5 [==============================] - ETA: 0s - loss: 0.0313 - accuracy: 1.00 - ETA: 0s - loss: 0.0362 - accuracy: 1.00 - ETA: 0s - loss: 0.0385 - accuracy: 1.00 - ETA: 0s - loss: 0.0394 - accuracy: 1.00 - ETA: 0s - loss: 0.0388 - accuracy: 1.00 - 1s 224ms/step - loss: 0.0388 - accuracy: 1.0000 - val_loss: 0.1203 - val_accuracy: 0.8125\n",
      "Epoch 24/100\n"
     ]
    },
    {
     "name": "stdout",
     "output_type": "stream",
     "text": [
      "5/5 [==============================] - ETA: 0s - loss: 0.0336 - accuracy: 1.00 - ETA: 0s - loss: 0.0412 - accuracy: 0.95 - ETA: 0s - loss: 0.0365 - accuracy: 0.96 - ETA: 0s - loss: 0.0404 - accuracy: 0.97 - ETA: 0s - loss: 0.0399 - accuracy: 0.98 - 1s 243ms/step - loss: 0.0399 - accuracy: 0.9800 - val_loss: 0.1144 - val_accuracy: 0.8333\n"
     ]
    }
   ],
   "source": [
    "tf.random.set_seed(7)\n",
    "\n",
    "train_image_inflate = []    \n",
    "for i in range(len(train_image)):\n",
    "    train_image_inflate.append(train_image[i].reshape(64,64,1))\n",
    "train_image_inflate = np.array(train_image_inflate).reshape(50,64,64,1)\n",
    "\n",
    "model3 = tf.keras.models.Sequential()\n",
    "\n",
    "# Da'model\n",
    "model3.add(Conv2D(30, 3, activation='tanh', input_shape=(64,64,1), padding='same',\n",
    "                  activity_regularizer=regularizers.l2(.00001)))\n",
    "model3.add(MaxPooling2D(2,2))\n",
    "\n",
    "# Added Dropout layer\n",
    "model3.add(Dropout(rate=.20))\n",
    "\n",
    "model3.add(Conv2D(50, 3, activation='tanh', padding='same',\n",
    "                  activity_regularizer=regularizers.l2(.00001)))                 \n",
    "model3.add(MaxPooling2D(2,2))\n",
    "\n",
    "model3.add(Conv2D(90, 3, activation='tanh', padding='same',\n",
    "                  activity_regularizer=regularizers.l2(.0001)))                  \n",
    "model3.add(MaxPooling2D(2,2))\n",
    "\n",
    "model3.add(k.layers.Flatten())\n",
    "\n",
    "model3.add(Dense(units=1, activation='sigmoid'))\n",
    "\n",
    "# Compiling Layer\n",
    "model3.compile(loss=BinaryFocalLoss(gamma=2),\n",
    "               optimizer='Adam', \n",
    "               metrics=['accuracy'])\n",
    " \n",
    "#Added early stopping\n",
    "early_stop = EarlyStopping(monitor='val_loss', min_delta=1e-6, \n",
    "                           patience=3, verbose=0, mode='min')\n",
    "\n",
    "# Fitting Da'model\n",
    "results3 = model3.fit(train_image_inflate, train_label, \n",
    "                      epochs=100,\n",
    "                      batch_size=10,\n",
    "                      validation_data=(val_image, val_label),\n",
    "                      class_weight=train_weights,                   \n",
    "                      callbacks=[early_stop]) \n"
   ]
  },
  {
   "cell_type": "code",
   "execution_count": 557,
   "metadata": {},
   "outputs": [
    {
     "data": {
      "image/png": "[encoded data removed]",
      "text/plain": [
       "<Figure size 720x504 with 2 Axes>"
      ]
     },
     "metadata": {
      "needs_background": "light"
     },
     "output_type": "display_data"
    }
   ],
   "source": [
    "plot_results(results3)"
   ]
  },
  {
   "cell_type": "code",
   "execution_count": 558,
   "metadata": {},
   "outputs": [
    {
     "name": "stdout",
     "output_type": "stream",
     "text": [
      "2/2 [==============================] - ETA: 0s - loss: 0.1429 - accuracy: 0.78 - ETA: 0s - loss: 0.1628 - accuracy: 0.75 - 0s 30ms/step - loss: 0.1628 - accuracy: 0.7500\n"
     ]
    },
    {
     "data": {
      "text/plain": [
       "[0.1628265231847763, 0.75]"
      ]
     },
     "execution_count": 558,
     "metadata": {},
     "output_type": "execute_result"
    }
   ],
   "source": [
    "model3.evaluate(val_image, val_label)"
   ]
  },
  {
   "cell_type": "code",
   "execution_count": 559,
   "metadata": {},
   "outputs": [
    {
     "name": "stdout",
     "output_type": "stream",
     "text": [
      "2/2 [==============================] - ETA: 0s - loss: 0.1977 - accuracy: 0.65 - ETA: 0s - loss: 0.1604 - accuracy: 0.74 - 0s 31ms/step - loss: 0.1604 - accuracy: 0.7400\n"
     ]
    },
    {
     "data": {
      "text/plain": [
       "[0.1604144126176834, 0.7400000095367432]"
      ]
     },
     "execution_count": 559,
     "metadata": {},
     "output_type": "execute_result"
    }
   ],
   "source": [
    "model3.evaluate(test_image, test_label)"
   ]
  },
  {
   "cell_type": "code",
   "execution_count": 329,
   "metadata": {},
   "outputs": [
    {
     "data": {
      "text/plain": [
       "(48, 64, 64, 1)"
      ]
     },
     "execution_count": 329,
     "metadata": {},
     "output_type": "execute_result"
    }
   ],
   "source": [
    "val_image.shape"
   ]
  },
  {
   "cell_type": "code",
   "execution_count": 493,
   "metadata": {},
   "outputs": [],
   "source": [
    "y_val_hat2 = model3.predict_classes(val_image)"
   ]
  },
  {
   "cell_type": "code",
   "execution_count": 495,
   "metadata": {},
   "outputs": [
    {
     "data": {
      "image/png": "[encoded data removed]",
      "text/plain": [
       "<Figure size 432x288 with 1 Axes>"
      ]
     },
     "metadata": {},
     "output_type": "display_data"
    }
   ],
   "source": [
    "from sklearn.metrics import plot_confusion_matrix\n",
    "\n",
    "sns.heatmap(confusion_matrix(val_label, y_val_hat2),cmap='Blues',annot=True, fmt='d',\n",
    "            cbar=False, xticklabels=False, yticklabels=False);\n",
    "plt.savefig('FinalMconfusion')"
   ]
  },
  {
   "cell_type": "code",
   "execution_count": 455,
   "metadata": {},
   "outputs": [
    {
     "data": {
      "text/plain": [
       "(50, 64, 64, 1)"
      ]
     },
     "execution_count": 455,
     "metadata": {},
     "output_type": "execute_result"
    }
   ],
   "source": [
    "train_image.shape"
   ]
  },
  {
   "cell_type": "code",
   "execution_count": 444,
   "metadata": {},
   "outputs": [
    {
     "data": {
      "text/plain": [
       "0.8214285714285714"
      ]
     },
     "execution_count": 444,
     "metadata": {},
     "output_type": "execute_result"
    }
   ],
   "source": [
    "f1_score(val_label, y_val_hat2)"
   ]
  },
  {
   "cell_type": "code",
   "execution_count": 454,
   "metadata": {},
   "outputs": [
    {
     "data": {
      "text/plain": [
       "(48, 64, 64, 1)"
      ]
     },
     "execution_count": 454,
     "metadata": {},
     "output_type": "execute_result"
    }
   ],
   "source": [
    "val_image.shape"
   ]
  },
  {
   "cell_type": "markdown",
   "metadata": {},
   "source": [
    "## Trying SMOTE "
   ]
  },
  {
   "cell_type": "code",
   "execution_count": 23,
   "metadata": {},
   "outputs": [],
   "source": [
    "sm = SMOTE(random_state=42, sampling_strategy='minority')\n",
    "\n",
    "train_image_rsz = []\n",
    "for i in range(len(train_image)):\n",
    "    train_image_rsz.append(train_image[i].reshape(1,-1))\n",
    "    \n",
    "train_image_rsz = np.array(train_image_rsz).reshape(50, 4096)"
   ]
  },
  {
   "cell_type": "code",
   "execution_count": 24,
   "metadata": {},
   "outputs": [],
   "source": [
    "\n",
    "train_image, train_label = sm.fit_resample(train_image_rsz, train_label)"
   ]
  },
  {
   "cell_type": "code",
   "execution_count": null,
   "metadata": {},
   "outputs": [],
   "source": [
    "train_image_rsz"
   ]
  },
  {
   "cell_type": "code",
   "execution_count": 41,
   "metadata": {
    "scrolled": true
   },
   "outputs": [
    {
     "name": "stdout",
     "output_type": "stream",
     "text": [
      "Epoch 1/50\n",
      "8/8 [==============================] - ETA: 0s - loss: 0.9190 - accuracy: 0.30 - ETA: 0s - loss: 0.8963 - accuracy: 0.40 - ETA: 0s - loss: 0.8272 - accuracy: 0.50 - ETA: 0s - loss: 0.8294 - accuracy: 0.47 - ETA: 0s - loss: 0.8109 - accuracy: 0.46 - ETA: 0s - loss: 0.7931 - accuracy: 0.45 - ETA: 0s - loss: 0.7698 - accuracy: 0.45 - ETA: 0s - loss: 0.7559 - accuracy: 0.44 - 1s 123ms/step - loss: 0.7559 - accuracy: 0.4474 - val_loss: 0.5212 - val_accuracy: 0.2500\n",
      "Epoch 2/50\n",
      "8/8 [==============================] - ETA: 0s - loss: 0.6346 - accuracy: 0.70 - ETA: 0s - loss: 0.6213 - accuracy: 0.50 - ETA: 0s - loss: 0.6244 - accuracy: 0.56 - ETA: 0s - loss: 0.6232 - accuracy: 0.60 - ETA: 0s - loss: 0.6188 - accuracy: 0.60 - ETA: 0s - loss: 0.5999 - accuracy: 0.53 - ETA: 0s - loss: 0.5936 - accuracy: 0.48 - 1s 64ms/step - loss: 0.5960 - accuracy: 0.5000 - val_loss: 0.4410 - val_accuracy: 0.2500\n",
      "Epoch 3/50\n",
      "8/8 [==============================] - ETA: 0s - loss: 0.5106 - accuracy: 0.60 - ETA: 0s - loss: 0.5101 - accuracy: 0.55 - ETA: 0s - loss: 0.5122 - accuracy: 0.53 - ETA: 0s - loss: 0.5132 - accuracy: 0.50 - ETA: 0s - loss: 0.5258 - accuracy: 0.46 - ETA: 0s - loss: 0.5190 - accuracy: 0.50 - ETA: 0s - loss: 0.5127 - accuracy: 0.48 - 1s 67ms/step - loss: 0.5087 - accuracy: 0.5000 - val_loss: 0.3840 - val_accuracy: 0.2500\n",
      "Epoch 4/50\n",
      "8/8 [==============================] - ETA: 0s - loss: 0.4617 - accuracy: 0.30 - ETA: 0s - loss: 0.4669 - accuracy: 0.40 - ETA: 0s - loss: 0.4653 - accuracy: 0.30 - ETA: 0s - loss: 0.4604 - accuracy: 0.37 - ETA: 0s - loss: 0.4643 - accuracy: 0.36 - ETA: 0s - loss: 0.4585 - accuracy: 0.45 - ETA: 0s - loss: 0.4561 - accuracy: 0.48 - ETA: 0s - loss: 0.4528 - accuracy: 0.50 - 1s 65ms/step - loss: 0.4528 - accuracy: 0.5000 - val_loss: 0.3390 - val_accuracy: 0.2500\n",
      "Epoch 5/50\n",
      "8/8 [==============================] - ETA: 0s - loss: 0.4105 - accuracy: 0.40 - ETA: 0s - loss: 0.4147 - accuracy: 0.50 - ETA: 0s - loss: 0.3997 - accuracy: 0.53 - ETA: 0s - loss: 0.4033 - accuracy: 0.50 - ETA: 0s - loss: 0.3999 - accuracy: 0.52 - ETA: 0s - loss: 0.4042 - accuracy: 0.50 - ETA: 0s - loss: 0.4042 - accuracy: 0.50 - ETA: 0s - loss: 0.4073 - accuracy: 0.50 - 1s 74ms/step - loss: 0.4073 - accuracy: 0.5000 - val_loss: 0.3181 - val_accuracy: 0.2500\n",
      "Epoch 6/50\n",
      "8/8 [==============================] - ETA: 0s - loss: 0.3923 - accuracy: 0.40 - ETA: 0s - loss: 0.3925 - accuracy: 0.45 - ETA: 0s - loss: 0.4068 - accuracy: 0.43 - ETA: 0s - loss: 0.4002 - accuracy: 0.40 - ETA: 0s - loss: 0.3906 - accuracy: 0.42 - ETA: 0s - loss: 0.3842 - accuracy: 0.45 - ETA: 0s - loss: 0.3825 - accuracy: 0.48 - ETA: 0s - loss: 0.3813 - accuracy: 0.50 - 1s 74ms/step - loss: 0.3813 - accuracy: 0.5000 - val_loss: 0.2744 - val_accuracy: 0.2500\n",
      "Epoch 7/50\n",
      "8/8 [==============================] - ETA: 0s - loss: 0.3503 - accuracy: 0.50 - ETA: 0s - loss: 0.3588 - accuracy: 0.60 - ETA: 0s - loss: 0.3530 - accuracy: 0.53 - ETA: 0s - loss: 0.3533 - accuracy: 0.52 - ETA: 0s - loss: 0.3532 - accuracy: 0.50 - ETA: 0s - loss: 0.3490 - accuracy: 0.51 - ETA: 0s - loss: 0.3481 - accuracy: 0.48 - ETA: 0s - loss: 0.3451 - accuracy: 0.50 - 1s 74ms/step - loss: 0.3451 - accuracy: 0.5000 - val_loss: 0.2842 - val_accuracy: 0.2500\n",
      "Epoch 8/50\n",
      "8/8 [==============================] - ETA: 0s - loss: 0.3612 - accuracy: 0.30 - ETA: 0s - loss: 0.3501 - accuracy: 0.40 - ETA: 0s - loss: 0.3399 - accuracy: 0.43 - ETA: 0s - loss: 0.3430 - accuracy: 0.42 - ETA: 0s - loss: 0.3373 - accuracy: 0.44 - ETA: 0s - loss: 0.3334 - accuracy: 0.43 - ETA: 0s - loss: 0.3281 - accuracy: 0.47 - ETA: 0s - loss: 0.3248 - accuracy: 0.50 - 1s 73ms/step - loss: 0.3248 - accuracy: 0.5000 - val_loss: 0.2594 - val_accuracy: 0.2500\n",
      "Epoch 9/50\n",
      "8/8 [==============================] - ETA: 0s - loss: 0.3167 - accuracy: 0.40 - ETA: 0s - loss: 0.3087 - accuracy: 0.50 - ETA: 0s - loss: 0.3038 - accuracy: 0.56 - ETA: 0s - loss: 0.3005 - accuracy: 0.55 - ETA: 0s - loss: 0.2996 - accuracy: 0.54 - ETA: 0s - loss: 0.3025 - accuracy: 0.51 - ETA: 0s - loss: 0.3062 - accuracy: 0.50 - ETA: 0s - loss: 0.3051 - accuracy: 0.50 - 1s 79ms/step - loss: 0.3051 - accuracy: 0.5000 - val_loss: 0.2627 - val_accuracy: 0.2500\n",
      "Epoch 10/50\n",
      "8/8 [==============================] - ETA: 0s - loss: 0.3125 - accuracy: 0.40 - ETA: 0s - loss: 0.2881 - accuracy: 0.55 - ETA: 0s - loss: 0.2853 - accuracy: 0.56 - ETA: 0s - loss: 0.2805 - accuracy: 0.57 - ETA: 0s - loss: 0.2861 - accuracy: 0.50 - ETA: 0s - loss: 0.2909 - accuracy: 0.45 - ETA: 0s - loss: 0.2878 - accuracy: 0.47 - ETA: 0s - loss: 0.2862 - accuracy: 0.50 - 1s 77ms/step - loss: 0.2862 - accuracy: 0.5000 - val_loss: 0.2323 - val_accuracy: 0.2500\n",
      "Epoch 11/50\n",
      "8/8 [==============================] - ETA: 0s - loss: 0.2644 - accuracy: 0.50 - ETA: 0s - loss: 0.2629 - accuracy: 0.55 - ETA: 0s - loss: 0.2654 - accuracy: 0.50 - ETA: 0s - loss: 0.2633 - accuracy: 0.50 - ETA: 0s - loss: 0.2618 - accuracy: 0.52 - ETA: 0s - loss: 0.2551 - accuracy: 0.55 - ETA: 0s - loss: 0.2586 - accuracy: 0.51 - ETA: 0s - loss: 0.2617 - accuracy: 0.50 - 1s 79ms/step - loss: 0.2617 - accuracy: 0.5000 - val_loss: 0.2370 - val_accuracy: 0.2500\n",
      "Epoch 12/50\n",
      "8/8 [==============================] - ETA: 0s - loss: 0.2494 - accuracy: 0.40 - ETA: 0s - loss: 0.2521 - accuracy: 0.40 - ETA: 0s - loss: 0.2451 - accuracy: 0.43 - ETA: 0s - loss: 0.2476 - accuracy: 0.42 - ETA: 0s - loss: 0.2473 - accuracy: 0.46 - ETA: 0s - loss: 0.2456 - accuracy: 0.50 - ETA: 0s - loss: 0.2425 - accuracy: 0.50 - ETA: 0s - loss: 0.2403 - accuracy: 0.51 - 1s 89ms/step - loss: 0.2403 - accuracy: 0.5132 - val_loss: 0.2421 - val_accuracy: 0.2500\n",
      "Epoch 00012: early stopping\n"
     ]
    },
    {
     "data": {
      "text/plain": [
       "<tensorflow.python.keras.callbacks.History at 0x10f9f3668>"
      ]
     },
     "execution_count": 41,
     "metadata": {},
     "output_type": "execute_result"
    }
   ],
   "source": [
    "model4 = tf.keras.models.Sequential()\n",
    " \n",
    "train_image_inflate = []    \n",
    "for i in range(len(train_image)):\n",
    "    train_image_inflate.append(train_image[i].reshape(64,64,1))\n",
    "\n",
    "train_image_inflate = np.array(train_image_inflate).reshape(76,64,64,1)\n",
    "\n",
    "# Da'model\n",
    "model4.add(Conv2D(10, 3, activation='relu', input_shape=(64,64,1), padding='same',\n",
    "                  activity_regularizer=regularizers.l2(0.0002)))\n",
    "model4.add(MaxPooling2D(2,2))\n",
    "\n",
    "# Added Dropout layer\n",
    "model4.add(Dropout(rate=.2))\n",
    "\n",
    "model4.add(Conv2D(20, 3, activation='relu', input_shape=(64,64,1), padding='same',\n",
    "                  activity_regularizer=regularizers.l2(0.0002)))\n",
    "model4.add(MaxPooling2D(2,2))\n",
    "\n",
    "model4.add(Conv2D(30, 3, activation='relu', input_shape=(64,64,1), padding='same',\n",
    "                  activity_regularizer=regularizers.l2(0.0002)))\n",
    "model4.add(MaxPooling2D(2,2))\n",
    "\n",
    "model4.add(Conv2D(40, 3, activation='relu', input_shape=(64,64,1), padding='same',\n",
    "                  activity_regularizer=regularizers.l2(0.0002)))\n",
    "model4.add(MaxPooling2D(2,2))\n",
    "\n",
    "model4.add(Conv2D(50, 3, activation='relu', input_shape=(64,64,1), padding='same',\n",
    "                  activity_regularizer=regularizers.l2(0.0002)))\n",
    "model4.add(MaxPooling2D(2,2))\n",
    "\n",
    "model4.add(k.layers.Flatten())\n",
    "\n",
    "model4.add(Dense(units=60, activation='relu', input_shape=(64,64,1)))\n",
    "model4.add(Dense(units=1, activation='sigmoid'))\n",
    "\n",
    "# Compiler layer W/ Stocastic Gradient Descent\n",
    "\n",
    "# opt=k.optimizers.SGD(learning_rate=0.05)\n",
    "model4.compile(loss=BinaryFocalLoss(gamma=2), \n",
    "               optimizer='adam', \n",
    "               metrics='accuracy')\n",
    " \n",
    "#Added early stopping\n",
    "early_stop = EarlyStopping(monitor='val_loss', min_delta=1e-8, \n",
    "                           patience=2, verbose=1, mode='min')\n",
    "\n",
    "# Fitting Da'model\n",
    "model4.fit(train_image_inflate, train_label,\n",
    "           validation_data=(val_image, val_label),\n",
    "           epochs=50,\n",
    "           batch_size=10,\n",
    "           class_weight=train_weights,\n",
    "           callbacks=[early_stop])\n",
    "#            callbacks=[Metrics((val_image, val_label))])"
   ]
  },
  {
   "cell_type": "code",
   "execution_count": 40,
   "metadata": {},
   "outputs": [
    {
     "name": "stdout",
     "output_type": "stream",
     "text": [
      "2/2 [==============================] - ETA: 0s - loss: 0.2397 - accuracy: 0.43 - 0s 11ms/step - loss: 0.2394 - accuracy: 0.4200\n"
     ]
    },
    {
     "data": {
      "text/plain": [
       "[0.23940163850784302, 0.41999998688697815]"
      ]
     },
     "execution_count": 40,
     "metadata": {},
     "output_type": "execute_result"
    }
   ],
   "source": [
    "model4.evaluate(test_image, test_label)"
   ]
  },
  {
   "cell_type": "code",
   "execution_count": null,
   "metadata": {},
   "outputs": [],
   "source": [
    "import numpy as np\n",
    "from keras.callbacks import Callback\n",
    "from sklearn.metrics import confusion_matrix, f1_score, precision_score, recall_score\n",
    "\n",
    "class Metrics(Callback):\n",
    "    \n",
    "    def __init__(self, val_data):\n",
    "        super().__init__()\n",
    "        self.validation_data=val_data\n",
    "        self.val_f1=None\n",
    "        \n",
    "    def on_train_begin(self, logs={}):\n",
    "        self.val_f1s = []\n",
    "        self.val_recalls = []\n",
    "        self.val_precisions = []\n",
    " \n",
    "    def on_epoch_end(self, epoch, logs={}):\n",
    "        val_predict = (np.asarray(self.model.predict(self.validation_data[0]))).round()\n",
    "        val_targ = self.validation_data[1]\n",
    "        _val_f1 = f1_score(val_targ, val_predict)\n",
    "        _val_recall = recall_score(val_targ, val_predict)\n",
    "        _val_precision = precision_score(val_targ, val_predict)\n",
    "        self.val_f1s.append(_val_f1)\n",
    "        self.val_recalls.append(_val_recall)\n",
    "        self.val_precisions.append(_val_precision)\n",
    "        print ('- val_f1: %f — val_precision: %f — val_recall %f' %\n",
    "        (_val_f1, _val_precision, _val_recall))\n",
    "        return\n",
    "    \n",
    "    def on_train_end(self, logs={}):\n",
    "        self.model.history.history['f1_score'] = self.val_f1s\n"
   ]
  },
  {
   "cell_type": "code",
   "execution_count": null,
   "metadata": {},
   "outputs": [],
   "source": [
    "metrics = Metrics()"
   ]
  },
  {
   "cell_type": "code",
   "execution_count": null,
   "metadata": {},
   "outputs": [],
   "source": []
  },
  {
   "cell_type": "code",
   "execution_count": null,
   "metadata": {},
   "outputs": [],
   "source": []
  },
  {
   "cell_type": "code",
   "execution_count": null,
   "metadata": {},
   "outputs": [],
   "source": []
  },
  {
   "cell_type": "code",
   "execution_count": null,
   "metadata": {},
   "outputs": [],
   "source": []
  }
 ],
 "metadata": {
  "kernelspec": {
   "display_name": "Python 3",
   "language": "python",
   "name": "python3"
  },
  "language_info": {
   "codemirror_mode": {
    "name": "ipython",
    "version": 3
   },
   "file_extension": ".py",
   "mimetype": "text/x-python",
   "name": "python",
   "nbconvert_exporter": "python",
   "pygments_lexer": "ipython3",
   "version": "3.6.9"
  }
 },
 "nbformat": 4,
 "nbformat_minor": 4
}
