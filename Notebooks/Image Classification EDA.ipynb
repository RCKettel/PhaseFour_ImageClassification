{
 "cells": [
  {
   "cell_type": "code",
   "execution_count": 18,
   "metadata": {},
   "outputs": [],
   "source": [
    "import pandas as pd\n",
    "import numpy as np\n",
    "import keras as k\n",
    "import tensorflow as tf\n",
    "import warnings\n",
    "warnings.filterwarnings('ignore', category=DeprecationWarning)\n",
    "warnings.filterwarnings('ignore', category=FutureWarning)\n",
    "\n",
    "from tensorflow.keras.preprocessing.image import ImageDataGenerator\n",
    "from keras.models import Sequential\n",
    "from keras.layers import Dense, Conv2D, MaxPooling2D"
   ]
  },
  {
   "cell_type": "markdown",
   "metadata": {},
   "source": [
    "## My Goal/Notes/Ideas"
   ]
  },
  {
   "cell_type": "markdown",
   "metadata": {},
   "source": [
    "To build a deep learning image classification model can identify pnemonia based on a set of X-ray images.\n",
    "\n",
    " - Type I error(FP): predict pnemonia but does not have it.\n",
    " - Type II error(FN): has pnemonia but predict no pnemonia.\n",
    " \n",
    "Based on this I feel I should make lungs with pnemonia my target variables so these will be my Y-values.\n",
    "\n",
    "I should also consider concentrating on accuracy or the F1 score.  Maybe try tweaking a model for each?"
   ]
  },
  {
   "cell_type": "markdown",
   "metadata": {},
   "source": [
    "## Import data EDA"
   ]
  },
  {
   "cell_type": "code",
   "execution_count": 3,
   "metadata": {},
   "outputs": [
    {
     "name": "stdout",
     "output_type": "stream",
     "text": [
      "Found 5216 images belonging to 2 classes.\n",
      "Found 16 images belonging to 2 classes.\n",
      "Found 624 images belonging to 2 classes.\n"
     ]
    }
   ],
   "source": [
    "# Make Training Generator\n",
    "\n",
    "train_gen = tf.keras.preprocessing.image.ImageDataGenerator(rescale=1./256)\n",
    "generate_train = train_gen.flow_from_directory(directory=r'../data/train', seed=42, \n",
    "                                    target_size=(64, 64), \n",
    "                                    batch_size=50, \n",
    "                                    class_mode='binary',\n",
    "                                    interpolation='nearest')\n",
    "\n",
    "# Make Val Generator\n",
    "\n",
    "val_gen = ImageDataGenerator(rescale=1./256)\n",
    "generate_val = val_gen.flow_from_directory(directory=r'../data/val', seed=42,\n",
    "                                   target_size=(256,256),\n",
    "                                   batch_size=8, \n",
    "                                   class_mode='binary',\n",
    "                                   interpolation='nearest')\n",
    "\n",
    "# Maket Test Generator\n",
    "\n",
    "test_gen = ImageDataGenerator(rescale=1./256)\n",
    "generate_test = test_gen.flow_from_directory(directory=r'../data/test', seed=42,\n",
    "                                   target_size=(256,256),\n",
    "                                   batch_size=50, \n",
    "                                   class_mode='binary',\n",
    "                                   interpolation='nearest')"
   ]
  },
  {
   "cell_type": "code",
   "execution_count": 20,
   "metadata": {},
   "outputs": [],
   "source": [
    "train_image, train_label = next(generate_train)\n",
    "test_image, test_label = next(generate_test)\n",
    "val_image, val_label = next(generate_val)"
   ]
  },
  {
   "cell_type": "code",
   "execution_count": 35,
   "metadata": {},
   "outputs": [
    {
     "data": {
      "text/plain": [
       "(50, 64, 64, 3)"
      ]
     },
     "execution_count": 35,
     "metadata": {},
     "output_type": "execute_result"
    }
   ],
   "source": [
    "train_image.shape"
   ]
  },
  {
   "cell_type": "code",
   "execution_count": 32,
   "metadata": {},
   "outputs": [
    {
     "data": {
      "text/plain": [
       "(50,)"
      ]
     },
     "execution_count": 32,
     "metadata": {},
     "output_type": "execute_result"
    }
   ],
   "source": [
    "train_label.shape"
   ]
  },
  {
   "cell_type": "code",
   "execution_count": 30,
   "metadata": {},
   "outputs": [
    {
     "name": "stdout",
     "output_type": "stream",
     "text": [
      "float32\n",
      "float32\n",
      "float32\n"
     ]
    }
   ],
   "source": [
    "print(train_gen.dtype)\n",
    "print(val_gen.dtype)\n",
    "print(test_gen.dtype)"
   ]
  },
  {
   "cell_type": "markdown",
   "metadata": {},
   "source": [
    "## Create FSM"
   ]
  },
  {
   "cell_type": "code",
   "execution_count": 57,
   "metadata": {},
   "outputs": [
    {
     "name": "stdout",
     "output_type": "stream",
     "text": [
      "Epoch 1/10\n",
      "10/10 [==============================] - 0s 9ms/step - loss: 0.7858 - accuracy: 0.5800\n",
      "Epoch 2/10\n",
      "10/10 [==============================] - 0s 10ms/step - loss: 0.7075 - accuracy: 0.5800\n",
      "Epoch 3/10\n",
      "10/10 [==============================] - 0s 10ms/step - loss: 0.5707 - accuracy: 0.7000\n",
      "Epoch 4/10\n",
      "10/10 [==============================] - 0s 10ms/step - loss: 0.5327 - accuracy: 0.8200\n",
      "Epoch 5/10\n",
      "10/10 [==============================] - 0s 11ms/step - loss: 0.4774 - accuracy: 0.7200\n",
      "Epoch 6/10\n",
      "10/10 [==============================] - 0s 10ms/step - loss: 0.3822 - accuracy: 0.9800\n",
      "Epoch 7/10\n",
      "10/10 [==============================] - 0s 9ms/step - loss: 0.3806 - accuracy: 0.8800\n",
      "Epoch 8/10\n",
      "10/10 [==============================] - 0s 9ms/step - loss: 0.3216 - accuracy: 0.9000\n",
      "Epoch 9/10\n",
      "10/10 [==============================] - 0s 9ms/step - loss: 0.2816 - accuracy: 0.9000\n",
      "Epoch 10/10\n",
      "10/10 [==============================] - 0s 11ms/step - loss: 0.2763 - accuracy: 0.9200\n"
     ]
    },
    {
     "data": {
      "text/plain": [
       "<tensorflow.python.keras.callbacks.History at 0x636741c88>"
      ]
     },
     "execution_count": 57,
     "metadata": {},
     "output_type": "execute_result"
    }
   ],
   "source": [
    "# USING A CNN MODEL!!!\n",
    "\n",
    "model = tf.keras.models.Sequential()\n",
    "\n",
    "# Da'model\n",
    "model.add(Conv2D(10, 3, activation='relu', input_shape=(64,64,3), padding='same'))\n",
    "model.add(MaxPooling2D(2,2))\n",
    "model.add(k.layers.Flatten())\n",
    "model.add(Dense(units=1, activation='sigmoid'))\n",
    "\n",
    "# Compiler layer\n",
    "model.compile(optimizer='adam', \n",
    "              loss='binary_crossentropy', \n",
    "              metrics=['accuracy'])\n",
    "\n",
    "# Fitting Da'model\n",
    "model.fit(train_image, train_label, epochs=10, steps_per_epoch=10) "
   ]
  },
  {
   "cell_type": "markdown",
   "metadata": {},
   "source": [
    "### Results\n",
    "The model functions! The accuracy score seems to be REALLY HIGH for a first simple model which makes me think this\n",
    "model is probably over fit or it needs some kind of adjustment.  The accuracy also changes consistently every time I rerun the model."
   ]
  },
  {
   "cell_type": "code",
   "execution_count": 49,
   "metadata": {},
   "outputs": [
    {
     "name": "stdout",
     "output_type": "stream",
     "text": [
      "Model: \"sequential_8\"\n",
      "_________________________________________________________________\n",
      "Layer (type)                 Output Shape              Param #   \n",
      "=================================================================\n",
      "conv2d_6 (Conv2D)            (None, 64, 64, 10)        280       \n",
      "_________________________________________________________________\n",
      "max_pooling2d_6 (MaxPooling2 (None, 32, 32, 10)        0         \n",
      "_________________________________________________________________\n",
      "flatten (Flatten)            (None, 10240)             0         \n",
      "_________________________________________________________________\n",
      "dense_8 (Dense)              (None, 1)                 10241     \n",
      "=================================================================\n",
      "Total params: 10,521\n",
      "Trainable params: 10,521\n",
      "Non-trainable params: 0\n",
      "_________________________________________________________________\n"
     ]
    }
   ],
   "source": [
    "model.summary()"
   ]
  },
  {
   "cell_type": "markdown",
   "metadata": {},
   "source": [
    "### Second Model: adding layers"
   ]
  },
  {
   "cell_type": "code",
   "execution_count": 58,
   "metadata": {},
   "outputs": [
    {
     "name": "stdout",
     "output_type": "stream",
     "text": [
      "Epoch 1/10\n",
      "10/10 [==============================] - 0s 17ms/step - loss: 0.6953 - accuracy: 0.5800\n",
      "Epoch 2/10\n",
      "10/10 [==============================] - 0s 18ms/step - loss: 0.6759 - accuracy: 0.5800\n",
      "Epoch 3/10\n",
      "10/10 [==============================] - 0s 18ms/step - loss: 0.6513 - accuracy: 0.6600\n",
      "Epoch 4/10\n",
      "10/10 [==============================] - 0s 15ms/step - loss: 0.6156 - accuracy: 0.9000\n",
      "Epoch 5/10\n",
      "10/10 [==============================] - 0s 18ms/step - loss: 0.5787 - accuracy: 0.7200\n",
      "Epoch 6/10\n",
      "10/10 [==============================] - 0s 18ms/step - loss: 0.5307 - accuracy: 0.9400\n",
      "Epoch 7/10\n",
      "10/10 [==============================] - 0s 20ms/step - loss: 0.4763 - accuracy: 0.9000\n",
      "Epoch 8/10\n",
      "10/10 [==============================] - 0s 16ms/step - loss: 0.4242 - accuracy: 0.9000\n",
      "Epoch 9/10\n",
      "10/10 [==============================] - 0s 18ms/step - loss: 0.4581 - accuracy: 0.7200\n",
      "Epoch 10/10\n",
      "10/10 [==============================] - 0s 18ms/step - loss: 0.3244 - accuracy: 0.9200\n"
     ]
    },
    {
     "data": {
      "text/plain": [
       "<tensorflow.python.keras.callbacks.History at 0x1132899b0>"
      ]
     },
     "execution_count": 58,
     "metadata": {},
     "output_type": "execute_result"
    }
   ],
   "source": [
    "model = tf.keras.models.Sequential()\n",
    "\n",
    "# Da'model\n",
    "model.add(Conv2D(10, 3, activation='relu', input_shape=(64,64,3), padding='same'))\n",
    "model.add(MaxPooling2D(2,2))\n",
    "\n",
    "# Added newbie layer for this iteration; hope accuracy improves!\n",
    "model.add(Conv2D(15, 3, activation='relu', input_shape=(63,64,3), padding='same'))\n",
    "model.add(MaxPooling2D(2,2))\n",
    "\n",
    "model.add(k.layers.Flatten())\n",
    "model.add(Dense(units=1, activation='sigmoid'))\n",
    "\n",
    "# Compiler layer\n",
    "model.compile(optimizer='adam', \n",
    "              loss='binary_crossentropy', \n",
    "              metrics=['accuracy'])\n",
    "\n",
    "# Fitting Da'model\n",
    "model.fit(train_image, train_label, epochs=10, steps_per_epoch=10) "
   ]
  },
  {
   "cell_type": "code",
   "execution_count": null,
   "metadata": {},
   "outputs": [],
   "source": []
  }
 ],
 "metadata": {
  "kernelspec": {
   "display_name": "Python 3",
   "language": "python",
   "name": "python3"
  },
  "language_info": {
   "codemirror_mode": {
    "name": "ipython",
    "version": 3
   },
   "file_extension": ".py",
   "mimetype": "text/x-python",
   "name": "python",
   "nbconvert_exporter": "python",
   "pygments_lexer": "ipython3",
   "version": "3.6.9"
  }
 },
 "nbformat": 4,
 "nbformat_minor": 4
}
